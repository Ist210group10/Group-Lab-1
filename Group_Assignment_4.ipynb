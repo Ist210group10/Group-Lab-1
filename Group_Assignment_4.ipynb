{
  "nbformat": 4,
  "nbformat_minor": 0,
  "metadata": {
    "colab": {
      "name": "Group Assignment 4",
      "provenance": [],
      "collapsed_sections": [],
      "include_colab_link": true
    },
    "kernelspec": {
      "name": "python3",
      "display_name": "Python 3"
    }
  },
  "cells": [
    {
      "cell_type": "markdown",
      "metadata": {
        "id": "view-in-github",
        "colab_type": "text"
      },
      "source": [
        "<a href=\"https://colab.research.google.com/github/Ist210group10/Group-Lab-1/blob/master/Group_Assignment_4.ipynb\" target=\"_parent\"><img src=\"https://colab.research.google.com/assets/colab-badge.svg\" alt=\"Open In Colab\"/></a>"
      ]
    },
    {
      "cell_type": "code",
      "metadata": {
        "id": "UJwKvRxMETPX",
        "colab_type": "code",
        "colab": {}
      },
      "source": [
        "from IPython.display import SVG\n",
        "SVG(filename = 'desktop/GroupAssignment4.svg')"
      ],
      "execution_count": 0,
      "outputs": []
    },
    {
      "cell_type": "code",
      "metadata": {
        "id": "z_ldimo3ZUfb",
        "colab_type": "code",
        "colab": {}
      },
      "source": [
        "import sqlite3 # Once imported in a single notebook, it is available to us throughout the rest of the notebook. \n",
        "# connect to database, if not there, create it.\n",
        "connectionToDatabase = sqlite3.connect('FlightData') \n",
        "\n",
        "cursor = connectionToDatabase.cursor()\n",
        "cursor.execute('''drop table IF EXISTS Flight''')\n",
        "connectionToDatabase.commit()\n",
        "\n",
        "cursor.execute('''create table IF NOT EXISTS Flight (FlightID text PRIMARY KEY, PilotID int, FlightTime int, FlightDistance int, NumberOfPassengers int)''')\n",
        "connectionToDatabase.commit()\n",
        "\n",
        "cursor = connectionToDatabase.cursor()\n",
        "cursor.execute('''drop table IF EXISTS Passenger''')\n",
        "connectionToDatabase.commit()\n",
        "\n",
        "cursor.execute('''create table IF NOT EXISTS Passenger (PassengerID text PRIMARY KEY, FlightID int, FName text, LName text)''')\n",
        "connectionToDatabase.commit()\n",
        "\n",
        "cursor = connectionToDatabase.cursor()\n",
        "cursor.execute('''drop table IF EXISTS Airplane''')\n",
        "connectionToDatabase.commit()\n",
        "\n",
        "cursor.execute('''create table IF NOT EXISTS Airplane (AirplaneID int PRIMARY KEY, PilotID int, Model text, Rent int, GasTankSize int) ''')\n",
        "connectionToDatabase.commit()\n",
        "\n",
        "cursor = connectionToDatabase.cursor()\n",
        "cursor.execute('''drop table IF EXISTS Pilot''')\n",
        "connectionToDatabase.commit()\n",
        "\n",
        "cursor.execute('''create table IF NOT EXISTS Pilot (PilotID int PRIMARY KEY, time int, distance int, cost int) ''')\n",
        "connectionToDatabase.commit()\n",
        "\n",
        "\n",
        "cursor = connectionToDatabase.cursor()\n",
        "cursor.execute('''drop table IF EXISTS Cost''')\n",
        "connectionToDatabase.commit()\n",
        "\n",
        "cursor.execute('''create table IF NOT EXISTS Cost (CostID int PRIMARY KEY, AirplaneID int, fuel int, rent int, instructor text) ''')\n",
        "connectionToDatabase.commit()"
      ],
      "execution_count": 0,
      "outputs": []
    },
    {
      "cell_type": "markdown",
      "metadata": {
        "id": "cthyajgm-eZW",
        "colab_type": "text"
      },
      "source": [
        "* Flight time: hours, flight distance: miles\n",
        "* Gas tank size: gallons, rent: dollars per hour\n",
        "* Time: hours flown, Distance: total miles flown, cost: total cost\n",
        "* Pilot cost: total cost affilated\n",
        "*CostID: fuel: cost of flight, rent total"
      ]
    },
    {
      "cell_type": "code",
      "metadata": {
        "id": "MqIKa6fKcLpk",
        "colab_type": "code",
        "colab": {}
      },
      "source": [
        "cursor.execute('''insert into Flight values ('020101', '123456', '2', '500', '3');''')\n",
        "connectionToDatabase.commit()\n",
        "cursor.execute('''insert into Flight values ('020102', '112345', '5', '1100', '5');''')\n",
        "connectionToDatabase.commit()\n",
        "cursor.execute('''insert into Flight values ('020103', '122345', '9', '2500', '10');''')\n",
        "connectionToDatabase.commit()\n",
        "cursor.execute('''insert into Flight values ('020104', '123345', '1', '200', '1');''')\n",
        "connectionToDatabase.commit()\n",
        "cursor.execute('''insert into Flight values ('020105', '124453', '10', '2700', '5');''')\n",
        "connectionToDatabase.commit()\n",
        "\n",
        "cursor.execute('''insert into Passenger values ('020108', '020101', 'Susan', 'Jones');''')\n",
        "connectionToDatabase.commit()\n",
        "cursor.execute('''insert into Passenger values ('020109', '020102', 'Mike', 'Wazowski');''')\n",
        "connectionToDatabase.commit()\n",
        "cursor.execute('''insert into Passenger values ('020100', '020103', 'Trace', 'McSorely');''')\n",
        "connectionToDatabase.commit()\n",
        "cursor.execute('''insert into Passenger values ('020101', '020104', 'James', 'Connor');''')\n",
        "connectionToDatabase.commit()\n",
        "cursor.execute('''insert into Passenger values ('020102', '020105', 'Joe', 'Jonas');''')\n",
        "connectionToDatabase.commit()\n",
        "\n",
        "cursor.execute('''insert into Airplane values ('05678', '123456', 'Cessna 152', '75', '50');''')\n",
        "connectionToDatabase.commit()\n",
        "cursor.execute('''insert into Airplane values ('05679', '112345', 'Cessna 150', '70', '100');''')\n",
        "connectionToDatabase.commit()\n",
        "cursor.execute('''insert into Airplane values ('05680', '122345', 'Cessna 152', '75', '50');''')\n",
        "connectionToDatabase.commit()\n",
        "cursor.execute('''insert into Airplane values ('05681', '123345', 'Cessna 152', '75', '50');''')\n",
        "connectionToDatabase.commit()\n",
        "cursor.execute('''insert into Airplane values ('05682', '124453', 'Cessna 150', '70', '100');''')\n",
        "connectionToDatabase.commit()\n",
        "\n",
        "cursor.execute('''insert into Pilot values ('123456', '27', '1578', '2025');''')\n",
        "connectionToDatabase.commit()\n",
        "cursor.execute('''insert into Pilot values ('112345', '50', '3000', '5500');''')\n",
        "connectionToDatabase.commit()\n",
        "cursor.execute('''insert into Pilot values ('122345', '65', '3500', '6300');''')\n",
        "connectionToDatabase.commit()\n",
        "cursor.execute('''insert into Pilot values ('123345', '10', '800', '750');''')\n",
        "connectionToDatabase.commit()\n",
        "cursor.execute('''insert into Pilot values ('124453', '24', '1200', '1850');''')\n",
        "connectionToDatabase.commit()\n",
        "\n",
        "cursor.execute('''insert into Cost values ('03', '05678', '130', '2025', 'Miles Sanders');''')\n",
        "connectionToDatabase.commit()\n",
        "cursor.execute('''insert into Cost values ('04', '05679', '550', '5500', 'Juju Smith-Shuster');''')\n",
        "connectionToDatabase.commit()\n",
        "cursor.execute('''insert into Cost values ('05', '05680', '780', '6300', 'Jim Berry');''')\n",
        "connectionToDatabase.commit()\n",
        "cursor.execute('''insert into Cost values ('06', '05681', '100', '750', 'Zac Efron');''')\n",
        "connectionToDatabase.commit()\n",
        "cursor.execute('''insert into Cost values ('07', '05682', '230', '1850', 'Kim Kardash');''')\n",
        "connectionToDatabase.commit()"
      ],
      "execution_count": 0,
      "outputs": []
    },
    {
      "cell_type": "code",
      "metadata": {
        "id": "PXoAkx0nbvpt",
        "colab_type": "code",
        "outputId": "eb53aab4-010e-442a-d611-0653ecaed777",
        "colab": {
          "base_uri": "https://localhost:8080/",
          "height": 105
        }
      },
      "source": [
        "cursor.execute('''select * FROM Flight''')\n",
        "for row in cursor.fetchall():\n",
        "  print(row)"
      ],
      "execution_count": 0,
      "outputs": [
        {
          "output_type": "stream",
          "text": [
            "('020101', 123456, 2, 500, 3)\n",
            "('020102', 112345, 5, 1100, 5)\n",
            "('020103', 122345, 9, 2500, 10)\n",
            "('020104', 123345, 1, 200, 1)\n",
            "('020105', 124453, 10, 2700, 5)\n"
          ],
          "name": "stdout"
        }
      ]
    },
    {
      "cell_type": "code",
      "metadata": {
        "id": "bw71U5I1xXCn",
        "colab_type": "code",
        "outputId": "fb5e02ba-86b0-4fe2-d10b-a554f7b5a824",
        "colab": {
          "base_uri": "https://localhost:8080/",
          "height": 105
        }
      },
      "source": [
        "cursor.execute('''select * FROM Passenger''')\n",
        "for row in cursor.fetchall():\n",
        "  print(row)"
      ],
      "execution_count": 0,
      "outputs": [
        {
          "output_type": "stream",
          "text": [
            "('020108', 20101, 'Susan', 'Jones')\n",
            "('020109', 20102, 'Mike', 'Wazowski')\n",
            "('020100', 20103, 'Trace', 'McSorely')\n",
            "('020101', 20104, 'James', 'Connor')\n",
            "('020102', 20105, 'Joe', 'Jonas')\n"
          ],
          "name": "stdout"
        }
      ]
    },
    {
      "cell_type": "code",
      "metadata": {
        "id": "MG8cDlpdxbGk",
        "colab_type": "code",
        "outputId": "f84e06d1-744c-44ae-c2a4-2a088ebc239e",
        "colab": {
          "base_uri": "https://localhost:8080/",
          "height": 105
        }
      },
      "source": [
        "cursor.execute('''select * FROM Airplane''')\n",
        "for row in cursor.fetchall():\n",
        "  print(row)"
      ],
      "execution_count": 0,
      "outputs": [
        {
          "output_type": "stream",
          "text": [
            "(5678, 123456, 'Cessna 152', 75, 50)\n",
            "(5679, 112345, 'Cessna 150', 70, 100)\n",
            "(5680, 122345, 'Cessna 152', 75, 50)\n",
            "(5681, 123345, 'Cessna 152', 75, 50)\n",
            "(5682, 124453, 'Cessna 150', 70, 100)\n"
          ],
          "name": "stdout"
        }
      ]
    },
    {
      "cell_type": "code",
      "metadata": {
        "id": "Lg5a_uOmxfmS",
        "colab_type": "code",
        "outputId": "f1f2ed02-2ffd-4582-fd2f-cb5a0a7a01cb",
        "colab": {
          "base_uri": "https://localhost:8080/",
          "height": 105
        }
      },
      "source": [
        "cursor.execute('''select * FROM Pilot''')\n",
        "for row in cursor.fetchall():\n",
        "  print(row)"
      ],
      "execution_count": 0,
      "outputs": [
        {
          "output_type": "stream",
          "text": [
            "(123456, 27, 1578, 2025)\n",
            "(112345, 50, 3000, 5500)\n",
            "(122345, 65, 3500, 6300)\n",
            "(123345, 10, 800, 750)\n",
            "(124453, 24, 1200, 1850)\n"
          ],
          "name": "stdout"
        }
      ]
    },
    {
      "cell_type": "code",
      "metadata": {
        "id": "i19W2C6PxjC_",
        "colab_type": "code",
        "outputId": "3b8221d1-f664-4da5-8967-bb8e94d36a6a",
        "colab": {
          "base_uri": "https://localhost:8080/",
          "height": 105
        }
      },
      "source": [
        "cursor.execute('''select * FROM Cost''')\n",
        "for row in cursor.fetchall():\n",
        "  print(row)"
      ],
      "execution_count": 0,
      "outputs": [
        {
          "output_type": "stream",
          "text": [
            "(3, 5678, 130, 2025, 'Miles Sanders')\n",
            "(4, 5679, 550, 5500, 'Juju Smith-Shuster')\n",
            "(5, 5680, 780, 6300, 'Jim Berry')\n",
            "(6, 5681, 100, 750, 'Zac Efron')\n",
            "(7, 5682, 230, 1850, 'Kim Kardash')\n"
          ],
          "name": "stdout"
        }
      ]
    },
    {
      "cell_type": "markdown",
      "metadata": {
        "id": "Ekn1-j13-6MX",
        "colab_type": "text"
      },
      "source": [
        "**How much money was spent on training by the students?**\n"
      ]
    },
    {
      "cell_type": "code",
      "metadata": {
        "id": "E_4O225K_VKd",
        "colab_type": "code",
        "outputId": "ffdd65c2-6117-4a78-fa42-486145460973",
        "colab": {
          "base_uri": "https://localhost:8080/",
          "height": 34
        }
      },
      "source": [
        "cursor.execute('''select AVG(rent+fuel) FROM Cost''')\n",
        "for row in cursor.fetchall():\n",
        "  print(row)"
      ],
      "execution_count": 0,
      "outputs": [
        {
          "output_type": "stream",
          "text": [
            "(3643.0,)\n"
          ],
          "name": "stdout"
        }
      ]
    },
    {
      "cell_type": "markdown",
      "metadata": {
        "id": "55GLjYlNDpOf",
        "colab_type": "text"
      },
      "source": [
        "This question was asked because it is the main reason the database was created. It helps to keep track of the total spend on training by a group. It is easy for students to loose track of how muhc they are spending when they rent an aircraft and go for a flight but knowing this will help them understand the costs associated with flight."
      ]
    },
    {
      "cell_type": "markdown",
      "metadata": {
        "id": "JoyklNyj-61L",
        "colab_type": "text"
      },
      "source": [
        "**How far did the students fly on average?**\n"
      ]
    },
    {
      "cell_type": "code",
      "metadata": {
        "id": "SNqe2GoECAgj",
        "colab_type": "code",
        "outputId": "1bc73b21-67de-4a82-d141-eacf3b7842da",
        "colab": {
          "base_uri": "https://localhost:8080/",
          "height": 34
        }
      },
      "source": [
        "cursor.execute('''select AVG(flightdistance) FROM Flight ''')\n",
        "for row in cursor.fetchall():\n",
        "  print(row)"
      ],
      "execution_count": 0,
      "outputs": [
        {
          "output_type": "stream",
          "text": [
            "(1400.0,)\n"
          ],
          "name": "stdout"
        }
      ]
    },
    {
      "cell_type": "markdown",
      "metadata": {
        "id": "koUYwF3tWwNX",
        "colab_type": "text"
      },
      "source": [
        "This question is so that students can know approximately how far they will fly during a lesson. This is so that students can mental prepare themselves for longer flights but also know how much fuel to put into aircraft as well as plan for routes that are about this distance."
      ]
    },
    {
      "cell_type": "markdown",
      "metadata": {
        "id": "91iVhAAI_UiO",
        "colab_type": "text"
      },
      "source": [
        "**Which airplanes were used to train pilots?**"
      ]
    },
    {
      "cell_type": "code",
      "metadata": {
        "id": "Op7QwVSPCKwz",
        "colab_type": "code",
        "outputId": "5fc34908-4b63-4768-e805-9020bab29dcb",
        "colab": {
          "base_uri": "https://localhost:8080/",
          "height": 52
        }
      },
      "source": [
        "cursor.execute('''select model FROM airplane group by model''')\n",
        "for row in cursor.fetchall():\n",
        "  print(row)"
      ],
      "execution_count": 0,
      "outputs": [
        {
          "output_type": "stream",
          "text": [
            "('Cessna 150',)\n",
            "('Cessna 152',)\n"
          ],
          "name": "stdout"
        }
      ]
    },
    {
      "cell_type": "markdown",
      "metadata": {
        "id": "4hsjc57RXPlV",
        "colab_type": "text"
      },
      "source": [
        "This question was asked for two reasons. This information is useful for instructors so they can see what planes are being used for training and focus their lessons around the instrumentation of those planes. It is also helpful for the students so they can become familiar with the layout and performance of the planes to perform better in their lessons. "
      ]
    }
  ]
}