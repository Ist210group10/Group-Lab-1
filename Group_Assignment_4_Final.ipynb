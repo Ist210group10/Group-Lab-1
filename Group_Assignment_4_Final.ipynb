{
 "cells": [
  {
   "cell_type": "code",
   "execution_count": 1,
   "metadata": {
    "colab": {
     "base_uri": "https://localhost:8080/",
     "height": 333
    },
    "colab_type": "code",
    "id": "UJwKvRxMETPX",
    "outputId": "b0532a27-6551-4d03-ec17-7ecfbd24c9ae"
   },
   "outputs": [
    {
     "data": {
      "image/svg+xml": [
       "<svg content=\"&lt;mxfile host=&quot;www.draw.io&quot; modified=&quot;2019-11-20T13:49:43.434Z&quot; agent=&quot;Mozilla/5.0 (Windows NT 10.0; Win64; x64) AppleWebKit/537.36 (KHTML, like Gecko) Chrome/78.0.3904.97 Safari/537.36&quot; etag=&quot;MCKj9vbq_gEnIpctBjA9&quot; version=&quot;12.2.7&quot; type=&quot;google&quot; pages=&quot;1&quot;&gt;&lt;diagram id=&quot;KlgSiv4LjQu6kkzL2N6C&quot; name=&quot;Page-1&quot;&gt;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&lt;/diagram&gt;&lt;/mxfile&gt;\" height=\"580px\" style=\"background-color: rgb(255, 255, 255);\" version=\"1.1\" viewBox=\"-0.5 -0.5 621 580\" width=\"621px\" xmlns=\"http://www.w3.org/2000/svg\" xmlns:xlink=\"http://www.w3.org/1999/xlink\"><defs><clipPath id=\"mx-clip-35-27-150-28-0\"><rect height=\"28\" width=\"150\" x=\"35\" y=\"27\"/></clipPath><clipPath id=\"mx-clip-5-27-20-28-0\"><rect height=\"28\" width=\"20\" x=\"5\" y=\"27\"/></clipPath><clipPath id=\"mx-clip-35-62-150-24-0\"><rect height=\"24\" width=\"150\" x=\"35\" y=\"62\"/></clipPath><clipPath id=\"mx-clip-35-88-150-24-0\"><rect height=\"24\" width=\"150\" x=\"35\" y=\"88\"/></clipPath><clipPath id=\"mx-clip-35-114-150-24-0\"><rect height=\"24\" width=\"150\" x=\"35\" y=\"114\"/></clipPath><clipPath id=\"mx-clip-35-140-150-24-0\"><rect height=\"24\" width=\"150\" x=\"35\" y=\"140\"/></clipPath><clipPath id=\"mx-clip-5-140-20-24-0\"><rect height=\"24\" width=\"20\" x=\"5\" y=\"140\"/></clipPath><clipPath id=\"mx-clip-495-27-120-28-0\"><rect height=\"28\" width=\"120\" x=\"495\" y=\"27\"/></clipPath><clipPath id=\"mx-clip-465-27-20-28-0\"><rect height=\"28\" width=\"20\" x=\"465\" y=\"27\"/></clipPath><clipPath id=\"mx-clip-495-62-120-24-0\"><rect height=\"24\" width=\"120\" x=\"495\" y=\"62\"/></clipPath><clipPath id=\"mx-clip-495-88-120-24-0\"><rect height=\"24\" width=\"120\" x=\"495\" y=\"88\"/></clipPath><clipPath id=\"mx-clip-495-114-120-24-0\"><rect height=\"24\" width=\"120\" x=\"495\" y=\"114\"/></clipPath><clipPath id=\"mx-clip-465-114-20-24-0\"><rect height=\"24\" width=\"20\" x=\"465\" y=\"114\"/></clipPath><clipPath id=\"mx-clip-35-246-120-28-0\"><rect height=\"28\" width=\"120\" x=\"35\" y=\"246\"/></clipPath><clipPath id=\"mx-clip-5-246-20-28-0\"><rect height=\"28\" width=\"20\" x=\"5\" y=\"246\"/></clipPath><clipPath id=\"mx-clip-35-281-120-24-0\"><rect height=\"24\" width=\"120\" x=\"35\" y=\"281\"/></clipPath><clipPath id=\"mx-clip-35-307-120-24-0\"><rect height=\"24\" width=\"120\" x=\"35\" y=\"307\"/></clipPath><clipPath id=\"mx-clip-35-333-120-24-0\"><rect height=\"24\" width=\"120\" x=\"35\" y=\"333\"/></clipPath><clipPath id=\"mx-clip-35-359-120-24-0\"><rect height=\"24\" width=\"120\" x=\"35\" y=\"359\"/></clipPath><clipPath id=\"mx-clip-5-359-20-24-0\"><rect height=\"24\" width=\"20\" x=\"5\" y=\"359\"/></clipPath><clipPath id=\"mx-clip-385-225-120-28-0\"><rect height=\"28\" width=\"120\" x=\"385\" y=\"225\"/></clipPath><clipPath id=\"mx-clip-355-225-20-28-0\"><rect height=\"28\" width=\"20\" x=\"355\" y=\"225\"/></clipPath><clipPath id=\"mx-clip-385-260-120-24-0\"><rect height=\"24\" width=\"120\" x=\"385\" y=\"260\"/></clipPath><clipPath id=\"mx-clip-385-286-120-24-0\"><rect height=\"24\" width=\"120\" x=\"385\" y=\"286\"/></clipPath><clipPath id=\"mx-clip-385-312-120-24-0\"><rect height=\"24\" width=\"120\" x=\"385\" y=\"312\"/></clipPath><clipPath id=\"mx-clip-355-312-20-24-0\"><rect height=\"24\" width=\"20\" x=\"355\" y=\"312\"/></clipPath><clipPath id=\"mx-clip-385-338-120-24-0\"><rect height=\"24\" width=\"120\" x=\"385\" y=\"338\"/></clipPath><clipPath id=\"mx-clip-385-438-120-28-0\"><rect height=\"28\" width=\"120\" x=\"385\" y=\"438\"/></clipPath><clipPath id=\"mx-clip-355-438-20-28-0\"><rect height=\"28\" width=\"20\" x=\"355\" y=\"438\"/></clipPath><clipPath id=\"mx-clip-385-473-120-24-0\"><rect height=\"24\" width=\"120\" x=\"385\" y=\"473\"/></clipPath><clipPath id=\"mx-clip-355-473-20-24-0\"><rect height=\"24\" width=\"20\" x=\"355\" y=\"473\"/></clipPath><clipPath id=\"mx-clip-385-499-120-24-0\"><rect height=\"24\" width=\"120\" x=\"385\" y=\"499\"/></clipPath><clipPath id=\"mx-clip-385-525-120-24-0\"><rect height=\"24\" width=\"120\" x=\"385\" y=\"525\"/></clipPath><clipPath id=\"mx-clip-385-551-120-30-0\"><rect height=\"30\" width=\"120\" x=\"385\" y=\"551\"/></clipPath><style type=\"text/css\" xmlns=\"http://www.w3.org/1999/xhtml\">\n",
       "\t\tbody { overflow:hidden; }\n",
       "\t\tdiv.picker { z-index: 10007; }\n",
       "\t\t.geSidebarContainer .geTitle input {\n",
       "\t\t\tfont-size:8pt;\n",
       "\t\t\tcolor:#606060;\n",
       "\t\t}\n",
       "\t\t.geBlock {\n",
       "\t\t\tz-index:-3;\n",
       "\t\t\tmargin:100px;\n",
       "\t\t\tmargin-top:40px;\n",
       "\t\t\tmargin-bottom:30px;\n",
       "\t\t\tpadding:20px;\n",
       "\t\t}\n",
       "\t\t.geBlock h1, .geBlock h2 {\n",
       "\t\t\tmargin-top:0px;\n",
       "\t\t\tpadding-top:0px;\n",
       "\t\t}\n",
       "\t\t.geEditor ::-webkit-scrollbar {\n",
       "\t\t    width:14px;\n",
       "\t\t    height:14px;\n",
       "\t\t}\n",
       "\t\t.geEditor ::-webkit-scrollbar-track {\n",
       "\t\t\tbackground-clip:padding-box;\n",
       "\t\t\tborder:solid transparent;\n",
       "\t\t\tborder-width:1px;\n",
       "\t\t}\n",
       "\t\t.geEditor ::-webkit-scrollbar-corner {\n",
       "\t\t\tbackground-color:transparent;\n",
       "\t\t}\n",
       "\t\t.geEditor ::-webkit-scrollbar-thumb {\n",
       "\t\t\tbackground-color:rgba(0,0,0,.1);\n",
       "\t\t\tbackground-clip:padding-box;\n",
       "\t\t\tborder:solid transparent;\n",
       "\t\t\tborder-radius:10px;\n",
       "\t\t}\n",
       "\t\t.geEditor ::-webkit-scrollbar-thumb:hover{\n",
       "\t\t\tbackground-color:rgba(0,0,0,.4);\n",
       "\t\t}\n",
       "\t\t.geTemplate {\n",
       "\t\t\tborder:1px solid transparent;\n",
       "\t\t\tdisplay:inline-block;\n",
       "\t\t\t_display:inline;\n",
       "\t\t\tvertical-align:top;\n",
       "\t\t\tborder-radius:3px;\n",
       "\t\t\toverflow:hidden;\n",
       "\t\t\tfont-size:14pt;\n",
       "\t\t\tcursor:pointer;\n",
       "\t\t\tmargin:5px;\n",
       "\t\t}\n",
       "\t\t.geFooterContainer div.geSocialFooter a {\n",
       "\t\t\tdisplay:inline;\n",
       "\t\t\tpadding:0px;\n",
       "\t\t}\n",
       "\t\t.geFooterContainer div.geSocialFooter a img {\n",
       "\t\t\tmargin-top:10px;\n",
       "\t\t\topacity:0.5;\n",
       "\t\t}\n",
       "\t\t.geFooterContainer div.geSocialFooter a img:hover {\n",
       "\t\t\topacity:1;\n",
       "\t\t}\n",
       "\t\t.geFooterContainer&gt;div#geFooter&gt;img {\n",
       "\t\t\topacity:0.5;\n",
       "\t\t\tborder:1px solid transparent;\n",
       "\t\t\tcursor:pointer;\n",
       "\t\t\tmargin-top:3px;\n",
       "\t\t\tmargin-right:6px;\n",
       "\t\t\tposition:absolute;\n",
       "\t\t\tright:4px;\n",
       "\t\t\ttop:12px;\n",
       "\t\t\tpadding:1px;\n",
       "\t\t\tcursor:pointer;\n",
       "\t\t}\n",
       "\t\t.geFooterContainer&gt;div#geFooter&gt;img:hover {\n",
       "\t\t\topacity: 1;\n",
       "\t\t}\n",
       "\t</style><style type=\"text/css\" xmlns=\"http://www.w3.org/1999/xhtml\"/><style type=\"text/css\" xmlns=\"http://www.w3.org/1999/xhtml\">.MathJax_Hover_Frame {border-radius: .25em; -webkit-border-radius: .25em; -moz-border-radius: .25em; -khtml-border-radius: .25em; box-shadow: 0px 0px 15px #83A; -webkit-box-shadow: 0px 0px 15px #83A; -moz-box-shadow: 0px 0px 15px #83A; -khtml-box-shadow: 0px 0px 15px #83A; border: 1px solid #A6D ! important; display: inline-block; position: absolute}\n",
       ".MathJax_Menu_Button .MathJax_Hover_Arrow {position: absolute; cursor: pointer; display: inline-block; border: 2px solid #AAA; border-radius: 4px; -webkit-border-radius: 4px; -moz-border-radius: 4px; -khtml-border-radius: 4px; font-family: 'Courier New',Courier; font-size: 9px; color: #F0F0F0}\n",
       ".MathJax_Menu_Button .MathJax_Hover_Arrow span {display: block; background-color: #AAA; border: 1px solid; border-radius: 3px; line-height: 0; padding: 4px}\n",
       ".MathJax_Hover_Arrow:hover {color: white!important; border: 2px solid #CCC!important}\n",
       ".MathJax_Hover_Arrow:hover span {background-color: #CCC!important}\n",
       "</style><style type=\"text/css\" xmlns=\"http://www.w3.org/1999/xhtml\">#MathJax_About {position: fixed; left: 50%; width: auto; text-align: center; border: 3px outset; padding: 1em 2em; background-color: #DDDDDD; color: black; cursor: default; font-family: message-box; font-size: 120%; font-style: normal; text-indent: 0; text-transform: none; line-height: normal; letter-spacing: normal; word-spacing: normal; word-wrap: normal; white-space: nowrap; float: none; z-index: 201; border-radius: 15px; -webkit-border-radius: 15px; -moz-border-radius: 15px; -khtml-border-radius: 15px; box-shadow: 0px 10px 20px #808080; -webkit-box-shadow: 0px 10px 20px #808080; -moz-box-shadow: 0px 10px 20px #808080; -khtml-box-shadow: 0px 10px 20px #808080; filter: progid:DXImageTransform.Microsoft.dropshadow(OffX=2, OffY=2, Color='gray', Positive='true')}\n",
       "#MathJax_About.MathJax_MousePost {outline: none}\n",
       ".MathJax_Menu {position: absolute; background-color: white; color: black; width: auto; padding: 2px; border: 1px solid #CCCCCC; margin: 0; cursor: default; font: menu; text-align: left; text-indent: 0; text-transform: none; line-height: normal; letter-spacing: normal; word-spacing: normal; word-wrap: normal; white-space: nowrap; float: none; z-index: 201; box-shadow: 0px 10px 20px #808080; -webkit-box-shadow: 0px 10px 20px #808080; -moz-box-shadow: 0px 10px 20px #808080; -khtml-box-shadow: 0px 10px 20px #808080; filter: progid:DXImageTransform.Microsoft.dropshadow(OffX=2, OffY=2, Color='gray', Positive='true')}\n",
       ".MathJax_MenuItem {padding: 2px 2em; background: transparent}\n",
       ".MathJax_MenuArrow {position: absolute; right: .5em; padding-top: .25em; color: #666666; font-size: .75em}\n",
       ".MathJax_MenuActive .MathJax_MenuArrow {color: white}\n",
       ".MathJax_MenuArrow.RTL {left: .5em; right: auto}\n",
       ".MathJax_MenuCheck {position: absolute; left: .7em}\n",
       ".MathJax_MenuCheck.RTL {right: .7em; left: auto}\n",
       ".MathJax_MenuRadioCheck {position: absolute; left: 1em}\n",
       ".MathJax_MenuRadioCheck.RTL {right: 1em; left: auto}\n",
       ".MathJax_MenuLabel {padding: 2px 2em 4px 1.33em; font-style: italic}\n",
       ".MathJax_MenuRule {border-top: 1px solid #CCCCCC; margin: 4px 1px 0px}\n",
       ".MathJax_MenuDisabled {color: GrayText}\n",
       ".MathJax_MenuActive {background-color: Highlight; color: HighlightText}\n",
       ".MathJax_MenuDisabled:focus, .MathJax_MenuLabel:focus {background-color: #E8E8E8}\n",
       ".MathJax_ContextMenu:focus {outline: none}\n",
       ".MathJax_ContextMenu .MathJax_MenuItem:focus {outline: none}\n",
       "#MathJax_AboutClose {top: .2em; right: .2em}\n",
       ".MathJax_Menu .MathJax_MenuClose {top: -10px; left: -10px}\n",
       ".MathJax_MenuClose {position: absolute; cursor: pointer; display: inline-block; border: 2px solid #AAA; border-radius: 18px; -webkit-border-radius: 18px; -moz-border-radius: 18px; -khtml-border-radius: 18px; font-family: 'Courier New',Courier; font-size: 24px; color: #F0F0F0}\n",
       ".MathJax_MenuClose span {display: block; background-color: #AAA; border: 1.5px solid; border-radius: 18px; -webkit-border-radius: 18px; -moz-border-radius: 18px; -khtml-border-radius: 18px; line-height: 0; padding: 8px 0 6px}\n",
       ".MathJax_MenuClose:hover {color: white!important; border: 2px solid #CCC!important}\n",
       ".MathJax_MenuClose:hover span {background-color: #CCC!important}\n",
       ".MathJax_MenuClose:hover:focus {outline: none}\n",
       "</style><style type=\"text/css\" xmlns=\"http://www.w3.org/1999/xhtml\">.MathJax_Preview .MJXf-math {color: inherit!important}\n",
       "</style><style type=\"text/css\" xmlns=\"http://www.w3.org/1999/xhtml\">.MJX_Assistive_MathML {position: absolute!important; top: 0; left: 0; clip: rect(1px, 1px, 1px, 1px); padding: 1px 0 0 0!important; border: 0!important; height: 1px!important; width: 1px!important; overflow: hidden!important; display: block!important; -webkit-touch-callout: none; -webkit-user-select: none; -khtml-user-select: none; -moz-user-select: none; -ms-user-select: none; user-select: none}\n",
       ".MJX_Assistive_MathML.MJX_Assistive_MathML_Block {width: 100%!important}\n",
       "</style><style type=\"text/css\" xmlns=\"http://www.w3.org/1999/xhtml\">#MathJax_Zoom {position: absolute; background-color: #F0F0F0; overflow: auto; display: block; z-index: 301; padding: .5em; border: 1px solid black; margin: 0; font-weight: normal; font-style: normal; text-align: left; text-indent: 0; text-transform: none; line-height: normal; letter-spacing: normal; word-spacing: normal; word-wrap: normal; white-space: nowrap; float: none; -webkit-box-sizing: content-box; -moz-box-sizing: content-box; box-sizing: content-box; box-shadow: 5px 5px 15px #AAAAAA; -webkit-box-shadow: 5px 5px 15px #AAAAAA; -moz-box-shadow: 5px 5px 15px #AAAAAA; -khtml-box-shadow: 5px 5px 15px #AAAAAA; filter: progid:DXImageTransform.Microsoft.dropshadow(OffX=2, OffY=2, Color='gray', Positive='true')}\n",
       "#MathJax_ZoomOverlay {position: absolute; left: 0; top: 0; z-index: 300; display: inline-block; width: 100%; height: 100%; border: 0; padding: 0; margin: 0; background-color: white; opacity: 0; filter: alpha(opacity=0)}\n",
       "#MathJax_ZoomFrame {position: relative; display: inline-block; height: 0; width: 0}\n",
       "#MathJax_ZoomEventTrap {position: absolute; left: 0; top: 0; z-index: 302; display: inline-block; border: 0; padding: 0; margin: 0; background-color: white; opacity: 0; filter: alpha(opacity=0)}\n",
       "</style><style type=\"text/css\" xmlns=\"http://www.w3.org/1999/xhtml\">.MathJax_Preview {color: #888}\n",
       "#MathJax_Message {position: fixed; left: 1em; bottom: 1.5em; background-color: #E6E6E6; border: 1px solid #959595; margin: 0px; padding: 2px 8px; z-index: 102; color: black; font-size: 80%; width: auto; white-space: nowrap}\n",
       "#MathJax_MSIE_Frame {position: absolute; top: 0; left: 0; width: 0px; z-index: 101; border: 0px; margin: 0px; padding: 0px}\n",
       ".MathJax_Error {color: #CC0000; font-style: italic}\n",
       "</style><style type=\"text/css\" xmlns=\"http://www.w3.org/1999/xhtml\">.MJXp-script {font-size: .8em}\n",
       ".MJXp-right {-webkit-transform-origin: right; -moz-transform-origin: right; -ms-transform-origin: right; -o-transform-origin: right; transform-origin: right}\n",
       ".MJXp-bold {font-weight: bold}\n",
       ".MJXp-italic {font-style: italic}\n",
       ".MJXp-scr {font-family: MathJax_Script,'Times New Roman',Times,STIXGeneral,serif}\n",
       ".MJXp-frak {font-family: MathJax_Fraktur,'Times New Roman',Times,STIXGeneral,serif}\n",
       ".MJXp-sf {font-family: MathJax_SansSerif,'Times New Roman',Times,STIXGeneral,serif}\n",
       ".MJXp-cal {font-family: MathJax_Caligraphic,'Times New Roman',Times,STIXGeneral,serif}\n",
       ".MJXp-mono {font-family: MathJax_Typewriter,'Times New Roman',Times,STIXGeneral,serif}\n",
       ".MJXp-largeop {font-size: 150%}\n",
       ".MJXp-largeop.MJXp-int {vertical-align: -.2em}\n",
       ".MJXp-math {display: inline-block; line-height: 1.2; text-indent: 0; font-family: 'Times New Roman',Times,STIXGeneral,serif; white-space: nowrap; border-collapse: collapse}\n",
       ".MJXp-display {display: block; text-align: center; margin: 1em 0}\n",
       ".MJXp-math span {display: inline-block}\n",
       ".MJXp-box {display: block!important; text-align: center}\n",
       ".MJXp-box:after {content: &quot; &quot;}\n",
       ".MJXp-rule {display: block!important; margin-top: .1em}\n",
       ".MJXp-char {display: block!important}\n",
       ".MJXp-mo {margin: 0 .15em}\n",
       ".MJXp-mfrac {margin: 0 .125em; vertical-align: .25em}\n",
       ".MJXp-denom {display: inline-table!important; width: 100%}\n",
       ".MJXp-denom &gt; * {display: table-row!important}\n",
       ".MJXp-surd {vertical-align: top}\n",
       ".MJXp-surd &gt; * {display: block!important}\n",
       ".MJXp-script-box &gt; *  {display: table!important; height: 50%}\n",
       ".MJXp-script-box &gt; * &gt; * {display: table-cell!important; vertical-align: top}\n",
       ".MJXp-script-box &gt; *:last-child &gt; * {vertical-align: bottom}\n",
       ".MJXp-script-box &gt; * &gt; * &gt; * {display: block!important}\n",
       ".MJXp-mphantom {visibility: hidden}\n",
       ".MJXp-munderover, .MJXp-munder {display: inline-table!important}\n",
       ".MJXp-over {display: inline-block!important; text-align: center}\n",
       ".MJXp-over &gt; * {display: block!important}\n",
       ".MJXp-munderover &gt; *, .MJXp-munder &gt; * {display: table-row!important}\n",
       ".MJXp-mtable {vertical-align: .25em; margin: 0 .125em}\n",
       ".MJXp-mtable &gt; * {display: inline-table!important; vertical-align: middle}\n",
       ".MJXp-mtr {display: table-row!important}\n",
       ".MJXp-mtd {display: table-cell!important; text-align: center; padding: .5em 0 0 .5em}\n",
       ".MJXp-mtr &gt; .MJXp-mtd:first-child {padding-left: 0}\n",
       ".MJXp-mtr:first-child &gt; .MJXp-mtd {padding-top: 0}\n",
       ".MJXp-mlabeledtr {display: table-row!important}\n",
       ".MJXp-mlabeledtr &gt; .MJXp-mtd:first-child {padding-left: 0}\n",
       ".MJXp-mlabeledtr:first-child &gt; .MJXp-mtd {padding-top: 0}\n",
       ".MJXp-merror {background-color: #FFFF88; color: #CC0000; border: 1px solid #CC0000; padding: 1px 3px; font-style: normal; font-size: 90%}\n",
       ".MJXp-scale0 {-webkit-transform: scaleX(.0); -moz-transform: scaleX(.0); -ms-transform: scaleX(.0); -o-transform: scaleX(.0); transform: scaleX(.0)}\n",
       ".MJXp-scale1 {-webkit-transform: scaleX(.1); -moz-transform: scaleX(.1); -ms-transform: scaleX(.1); -o-transform: scaleX(.1); transform: scaleX(.1)}\n",
       ".MJXp-scale2 {-webkit-transform: scaleX(.2); -moz-transform: scaleX(.2); -ms-transform: scaleX(.2); -o-transform: scaleX(.2); transform: scaleX(.2)}\n",
       ".MJXp-scale3 {-webkit-transform: scaleX(.3); -moz-transform: scaleX(.3); -ms-transform: scaleX(.3); -o-transform: scaleX(.3); transform: scaleX(.3)}\n",
       ".MJXp-scale4 {-webkit-transform: scaleX(.4); -moz-transform: scaleX(.4); -ms-transform: scaleX(.4); -o-transform: scaleX(.4); transform: scaleX(.4)}\n",
       ".MJXp-scale5 {-webkit-transform: scaleX(.5); -moz-transform: scaleX(.5); -ms-transform: scaleX(.5); -o-transform: scaleX(.5); transform: scaleX(.5)}\n",
       ".MJXp-scale6 {-webkit-transform: scaleX(.6); -moz-transform: scaleX(.6); -ms-transform: scaleX(.6); -o-transform: scaleX(.6); transform: scaleX(.6)}\n",
       ".MJXp-scale7 {-webkit-transform: scaleX(.7); -moz-transform: scaleX(.7); -ms-transform: scaleX(.7); -o-transform: scaleX(.7); transform: scaleX(.7)}\n",
       ".MJXp-scale8 {-webkit-transform: scaleX(.8); -moz-transform: scaleX(.8); -ms-transform: scaleX(.8); -o-transform: scaleX(.8); transform: scaleX(.8)}\n",
       ".MJXp-scale9 {-webkit-transform: scaleX(.9); -moz-transform: scaleX(.9); -ms-transform: scaleX(.9); -o-transform: scaleX(.9); transform: scaleX(.9)}\n",
       ".MathJax_PHTML .noError {vertical-align: ; font-size: 90%; text-align: left; color: black; padding: 1px 3px; border: 1px solid}\n",
       "</style><style type=\"text/css\" xmlns=\"http://www.w3.org/1999/xhtml\">  @-webkit-keyframes rotate {\n",
       "    from  { -webkit-transform: rotate(0deg); }\n",
       "    to   { -webkit-transform: rotate(360deg); }\n",
       "  }\n",
       "\n",
       "  @keyframes rotate {\n",
       "    from  { transform: rotate(0deg); }\n",
       "    to   { transform: rotate(360deg); }\n",
       "  }\n",
       "\n",
       "    .dropbox-dropin-btn, .dropbox-dropin-btn:link, .dropbox-dropin-btn:hover {\n",
       "      display: inline-block;\n",
       "      height: 14px;\n",
       "      font-family: &quot;Lucida Grande&quot;, &quot;Segoe UI&quot;, &quot;Tahoma&quot;, &quot;Helvetica Neue&quot;, &quot;Helvetica&quot;, sans-serif;\n",
       "      font-size: 11px;\n",
       "      font-weight: 600;\n",
       "      color: #636363;\n",
       "      text-decoration: none;\n",
       "      padding: 1px 7px 5px 3px;\n",
       "      border: 1px solid #ebebeb;\n",
       "      border-radius: 2px;\n",
       "      border-bottom-color: #d4d4d4;\n",
       "        background: #fcfcfc;\n",
       "  background: -moz-linear-gradient(top, #fcfcfc 0%, #f5f5f5 100%);\n",
       "  background: -webkit-linear-gradient(top, #fcfcfc 0%, #f5f5f5 100%);\n",
       "  background: linear-gradient(to bottom, #fcfcfc 0%, #f5f5f5 100%);\n",
       "  filter: progid:DXImageTransform.Microsoft.gradient(startColorstr='#fcfcfc', endColorstr='#f5f5f5',GradientType=0);  \n",
       "    }\n",
       "\n",
       "    .dropbox-dropin-default:hover, .dropbox-dropin-error:hover {\n",
       "      border-color: #dedede;\n",
       "      border-bottom-color: #cacaca;\n",
       "        background: #fdfdfd;\n",
       "  background: -moz-linear-gradient(top, #fdfdfd 0%, #f5f5f5 100%);\n",
       "  background: -webkit-linear-gradient(top, #fdfdfd 0%, #f5f5f5 100%);\n",
       "  background: linear-gradient(to bottom, #fdfdfd 0%, #f5f5f5 100%);\n",
       "  filter: progid:DXImageTransform.Microsoft.gradient(startColorstr='#fdfdfd', endColorstr='#f5f5f5',GradientType=0);  \n",
       "    }\n",
       "\n",
       "    .dropbox-dropin-default:active, .dropbox-dropin-error:active {\n",
       "      border-color: #d1d1d1;\n",
       "      box-shadow: inset 0 1px 1px rgba(0,0,0,0.1);\n",
       "    }\n",
       "\n",
       "    .dropbox-dropin-btn .dropin-btn-status {\n",
       "      display: inline-block;\n",
       "      width: 15px;\n",
       "      height: 14px;\n",
       "      vertical-align: bottom;\n",
       "      margin: 0 5px 0 2px;\n",
       "      background: transparent url('https://www.dropbox.com/static/images/widgets/dbx-saver-status.png') no-repeat;\n",
       "      position: relative;\n",
       "      top: 2px;\n",
       "    }\n",
       "\n",
       "    .dropbox-dropin-default .dropin-btn-status {\n",
       "      background-position: 0px 0px;\n",
       "    }\n",
       "\n",
       "    .dropbox-dropin-progress .dropin-btn-status {\n",
       "      width: 18px;\n",
       "      margin: 0 4px 0 0;\n",
       "      background: url('https://www.dropbox.com/static/images/widgets/dbx-progress.png') no-repeat center center;\n",
       "        -webkit-animation-name: rotate;\n",
       "        -webkit-animation-duration: 1.7s;\n",
       "        -webkit-animation-iteration-count: infinite;\n",
       "        -webkit-animation-timing-function: linear;\n",
       "      animation-name: rotate;\n",
       "      animation-duration: 1.7s;\n",
       "      animation-iteration-count: infinite;\n",
       "      animation-timing-function: linear;\n",
       "    }\n",
       "\n",
       "    .dropbox-dropin-success .dropin-btn-status {\n",
       "      background-position: -15px 0px;\n",
       "    }\n",
       "\n",
       "    .dropbox-dropin-disabled {\n",
       "      background: #e0e0e0;\n",
       "      border: 1px #dadada solid;\n",
       "      border-bottom: 1px solid #ccc;\n",
       "      box-shadow: none;\n",
       "    }\n",
       "\n",
       "    .dropbox-dropin-disabled .dropin-btn-status {\n",
       "      background-position: -30px 0px;\n",
       "    }\n",
       "\n",
       "    .dropbox-dropin-error .dropin-btn-status {\n",
       "      background-position: -45px 0px;\n",
       "    }\n",
       "\n",
       "  @media only screen and (-webkit-min-device-pixel-ratio: 1.4) {\n",
       "      .dropbox-dropin-btn .dropin-btn-status {\n",
       "        background-image: url('https://www.dropbox.com/static/images/widgets/dbx-saver-status-2x.png');\n",
       "        background-size: 60px 14px;\n",
       "          -webkit-background-size: 60px 14px;\n",
       "      }\n",
       "\n",
       "      .dropbox-dropin-progress .dropin-btn-status {\n",
       "        background: url('https://www.dropbox.com/static/images/widgets/dbx-progress-2x.png') no-repeat center center;\n",
       "        background-size: 20px 20px;\n",
       "          -webkit-background-size: 20px 20px;\n",
       "      }\n",
       "  }\n",
       "\n",
       "    .dropbox-saver:hover, .dropbox-chooser:hover {\n",
       "      text-decoration: none;\n",
       "      cursor: pointer;\n",
       "    }\n",
       "\n",
       "    .dropbox-chooser, .dropbox-dropin-btn {\n",
       "      line-height: 11px !important;\n",
       "      text-decoration: none !important;\n",
       "      box-sizing: content-box !important;\n",
       "        -webkit-box-sizing: content-box !important;\n",
       "        -moz-box-sizing: content-box !important;\n",
       "    }\n",
       "    </style></defs><g><path d=\"M 0 26 L 0 0 L 190 0 L 190 26\" fill=\"#e0e0e0\" pointer-events=\"all\" stroke=\"#000000\" stroke-miterlimit=\"10\"/><path d=\"M 0 26 L 0 170 L 190 170 L 190 26\" fill=\"#ffffff\" pointer-events=\"all\" stroke=\"#000000\" stroke-miterlimit=\"10\"/><path d=\"M 0 26 L 190 26\" fill=\"none\" pointer-events=\"all\" stroke=\"#000000\" stroke-miterlimit=\"10\"/><g fill=\"#000000\" font-family=\"Helvetica\" font-size=\"14px\" text-anchor=\"middle\"><text x=\"94.5\" y=\"18.5\">Flight</text></g><rect fill=\"none\" height=\"30\" pointer-events=\"all\" stroke=\"none\" width=\"190\" x=\"0\" y=\"26\"/><rect fill=\"none\" height=\"30\" pointer-events=\"all\" stroke=\"none\" width=\"190\" x=\"0\" y=\"26\"/><path d=\"M 0 26 M 190 26 M 190 56 L 0 56\" fill=\"none\" pointer-events=\"all\" stroke=\"#000000\" stroke-miterlimit=\"10\"/><g clip-path=\"url(#mx-clip-35-27-150-28-0)\" fill=\"#000000\" font-family=\"Helvetica\" font-size=\"12px\" font-weight=\"bold\" text-decoration=\"underline\"><text x=\"36.5\" y=\"44.5\">FlightID</text></g><rect fill=\"none\" height=\"30\" pointer-events=\"all\" stroke=\"none\" width=\"30\" x=\"0\" y=\"26\"/><rect fill=\"none\" height=\"30\" pointer-events=\"all\" stroke=\"none\" width=\"30\" x=\"0\" y=\"26\"/><path d=\"M 0 26 M 30 26 L 30 56 M 0 56\" fill=\"none\" pointer-events=\"all\" stroke=\"#000000\" stroke-miterlimit=\"10\"/><g clip-path=\"url(#mx-clip-5-27-20-28-0)\" fill=\"#000000\" font-family=\"Helvetica\" font-size=\"12px\"><text x=\"6.5\" y=\"44.5\">PK</text></g><rect fill=\"none\" height=\"26\" pointer-events=\"all\" stroke=\"none\" width=\"190\" x=\"0\" y=\"56\"/><rect fill=\"none\" height=\"26\" pointer-events=\"all\" stroke=\"none\" width=\"190\" x=\"0\" y=\"56\"/><path d=\"M 0 56 M 190 56 M 190 82 M 0 82\" fill=\"none\" pointer-events=\"all\" stroke=\"#000000\" stroke-miterlimit=\"10\"/><g clip-path=\"url(#mx-clip-35-62-150-24-0)\" fill=\"#000000\" font-family=\"Helvetica\" font-size=\"12px\"><text x=\"36.5\" y=\"74.5\">Flight time</text></g><rect fill=\"none\" height=\"26\" pointer-events=\"all\" stroke=\"none\" width=\"30\" x=\"0\" y=\"56\"/><rect fill=\"none\" height=\"26\" pointer-events=\"all\" stroke=\"none\" width=\"30\" x=\"0\" y=\"56\"/><path d=\"M 0 56 M 30 56 L 30 82 M 0 82\" fill=\"none\" pointer-events=\"all\" stroke=\"#000000\" stroke-miterlimit=\"10\"/><rect fill=\"none\" height=\"26\" pointer-events=\"all\" stroke=\"none\" width=\"190\" x=\"0\" y=\"82\"/><rect fill=\"none\" height=\"26\" pointer-events=\"all\" stroke=\"none\" width=\"190\" x=\"0\" y=\"82\"/><path d=\"M 0 82 M 190 82 M 190 108 M 0 108\" fill=\"none\" pointer-events=\"all\" stroke=\"#000000\" stroke-miterlimit=\"10\"/><g clip-path=\"url(#mx-clip-35-88-150-24-0)\" fill=\"#000000\" font-family=\"Helvetica\" font-size=\"12px\"><text x=\"36.5\" y=\"100.5\">Flight distance</text></g><rect fill=\"none\" height=\"26\" pointer-events=\"all\" stroke=\"none\" width=\"30\" x=\"0\" y=\"82\"/><rect fill=\"none\" height=\"26\" pointer-events=\"all\" stroke=\"none\" width=\"30\" x=\"0\" y=\"82\"/><path d=\"M 0 82 M 30 82 L 30 108 M 0 108\" fill=\"none\" pointer-events=\"all\" stroke=\"#000000\" stroke-miterlimit=\"10\"/><rect fill=\"none\" height=\"26\" pointer-events=\"all\" stroke=\"none\" width=\"190\" x=\"0\" y=\"108\"/><rect fill=\"none\" height=\"26\" pointer-events=\"all\" stroke=\"none\" width=\"190\" x=\"0\" y=\"108\"/><path d=\"M 0 108 M 190 108 M 190 134 M 0 134\" fill=\"none\" pointer-events=\"all\" stroke=\"#000000\" stroke-miterlimit=\"10\"/><g clip-path=\"url(#mx-clip-35-114-150-24-0)\" fill=\"#000000\" font-family=\"Helvetica\" font-size=\"12px\"><text x=\"36.5\" y=\"126.5\">Number Of Passengers</text></g><rect fill=\"none\" height=\"26\" pointer-events=\"all\" stroke=\"none\" width=\"30\" x=\"0\" y=\"108\"/><rect fill=\"none\" height=\"26\" pointer-events=\"all\" stroke=\"none\" width=\"30\" x=\"0\" y=\"108\"/><path d=\"M 0 108 M 30 108 L 30 134 M 0 134\" fill=\"none\" pointer-events=\"all\" stroke=\"#000000\" stroke-miterlimit=\"10\"/><rect fill=\"none\" height=\"26\" pointer-events=\"all\" stroke=\"none\" width=\"190\" x=\"0\" y=\"134\"/><rect fill=\"none\" height=\"26\" pointer-events=\"all\" stroke=\"none\" width=\"190\" x=\"0\" y=\"134\"/><path d=\"M 0 134 M 190 134 M 190 160 M 0 160\" fill=\"none\" pointer-events=\"all\" stroke=\"#000000\" stroke-miterlimit=\"10\"/><g clip-path=\"url(#mx-clip-35-140-150-24-0)\" fill=\"#000000\" font-family=\"Helvetica\" font-size=\"12px\"><text x=\"36.5\" y=\"152.5\">PilotID</text></g><rect fill=\"none\" height=\"26\" pointer-events=\"all\" stroke=\"none\" width=\"30\" x=\"0\" y=\"134\"/><rect fill=\"none\" height=\"26\" pointer-events=\"all\" stroke=\"none\" width=\"30\" x=\"0\" y=\"134\"/><path d=\"M 0 134 M 30 134 L 30 160 M 0 160\" fill=\"none\" pointer-events=\"all\" stroke=\"#000000\" stroke-miterlimit=\"10\"/><g clip-path=\"url(#mx-clip-5-140-20-24-0)\" fill=\"#000000\" font-family=\"Helvetica\" font-size=\"12px\"><text x=\"6.5\" y=\"152.5\">FK</text></g><rect fill=\"none\" height=\"10\" pointer-events=\"all\" stroke=\"none\" width=\"190\" x=\"0\" y=\"160\"/><rect fill=\"none\" height=\"10\" pointer-events=\"all\" stroke=\"none\" width=\"190\" x=\"0\" y=\"160\"/><path d=\"M 0 160 M 190 160 M 190 170 M 0 170\" fill=\"none\" pointer-events=\"all\" stroke=\"#000000\" stroke-miterlimit=\"10\"/><rect fill=\"none\" height=\"10\" pointer-events=\"all\" stroke=\"none\" width=\"30\" x=\"0\" y=\"160\"/><rect fill=\"none\" height=\"10\" pointer-events=\"all\" stroke=\"none\" width=\"30\" x=\"0\" y=\"160\"/><path d=\"M 0 160 M 30 160 L 30 170 M 0 170\" fill=\"none\" pointer-events=\"all\" stroke=\"#000000\" stroke-miterlimit=\"10\"/><path d=\"M 460 26 L 460 0 L 620 0 L 620 26\" fill=\"#e0e0e0\" pointer-events=\"all\" stroke=\"#000000\" stroke-miterlimit=\"10\"/><path d=\"M 460 26 L 460 144 L 620 144 L 620 26\" fill=\"#ffffff\" pointer-events=\"all\" stroke=\"#000000\" stroke-miterlimit=\"10\"/><path d=\"M 460 26 L 620 26\" fill=\"none\" pointer-events=\"all\" stroke=\"#000000\" stroke-miterlimit=\"10\"/><g fill=\"#000000\" font-family=\"Helvetica\" font-size=\"14px\" text-anchor=\"middle\"><text x=\"539.5\" y=\"18.5\">Passenger</text></g><rect fill=\"none\" height=\"30\" pointer-events=\"all\" stroke=\"none\" width=\"160\" x=\"460\" y=\"26\"/><rect fill=\"none\" height=\"30\" pointer-events=\"all\" stroke=\"none\" width=\"160\" x=\"460\" y=\"26\"/><path d=\"M 460 26 M 620 26 M 620 56 L 460 56\" fill=\"none\" pointer-events=\"all\" stroke=\"#000000\" stroke-miterlimit=\"10\"/><g clip-path=\"url(#mx-clip-495-27-120-28-0)\" fill=\"#000000\" font-family=\"Helvetica\" font-size=\"12px\" font-weight=\"bold\" text-decoration=\"underline\"><text x=\"496.5\" y=\"44.5\">PassengerID</text></g><rect fill=\"none\" height=\"30\" pointer-events=\"all\" stroke=\"none\" width=\"30\" x=\"460\" y=\"26\"/><rect fill=\"none\" height=\"30\" pointer-events=\"all\" stroke=\"none\" width=\"30\" x=\"460\" y=\"26\"/><path d=\"M 460 26 M 490 26 L 490 56 M 460 56\" fill=\"none\" pointer-events=\"all\" stroke=\"#000000\" stroke-miterlimit=\"10\"/><g clip-path=\"url(#mx-clip-465-27-20-28-0)\" fill=\"#000000\" font-family=\"Helvetica\" font-size=\"12px\"><text x=\"466.5\" y=\"44.5\">PK</text></g><rect fill=\"none\" height=\"26\" pointer-events=\"all\" stroke=\"none\" width=\"160\" x=\"460\" y=\"56\"/><rect fill=\"none\" height=\"26\" pointer-events=\"all\" stroke=\"none\" width=\"160\" x=\"460\" y=\"56\"/><path d=\"M 460 56 M 620 56 M 620 82 M 460 82\" fill=\"none\" pointer-events=\"all\" stroke=\"#000000\" stroke-miterlimit=\"10\"/><g clip-path=\"url(#mx-clip-495-62-120-24-0)\" fill=\"#000000\" font-family=\"Helvetica\" font-size=\"12px\"><text x=\"496.5\" y=\"74.5\">FName</text></g><rect fill=\"none\" height=\"26\" pointer-events=\"all\" stroke=\"none\" width=\"30\" x=\"460\" y=\"56\"/><rect fill=\"none\" height=\"26\" pointer-events=\"all\" stroke=\"none\" width=\"30\" x=\"460\" y=\"56\"/><path d=\"M 460 56 M 490 56 L 490 82 M 460 82\" fill=\"none\" pointer-events=\"all\" stroke=\"#000000\" stroke-miterlimit=\"10\"/><rect fill=\"none\" height=\"26\" pointer-events=\"all\" stroke=\"none\" width=\"160\" x=\"460\" y=\"82\"/><rect fill=\"none\" height=\"26\" pointer-events=\"all\" stroke=\"none\" width=\"160\" x=\"460\" y=\"82\"/><path d=\"M 460 82 M 620 82 M 620 108 M 460 108\" fill=\"none\" pointer-events=\"all\" stroke=\"#000000\" stroke-miterlimit=\"10\"/><g clip-path=\"url(#mx-clip-495-88-120-24-0)\" fill=\"#000000\" font-family=\"Helvetica\" font-size=\"12px\"><text x=\"496.5\" y=\"100.5\">LName</text></g><rect fill=\"none\" height=\"26\" pointer-events=\"all\" stroke=\"none\" width=\"30\" x=\"460\" y=\"82\"/><rect fill=\"none\" height=\"26\" pointer-events=\"all\" stroke=\"none\" width=\"30\" x=\"460\" y=\"82\"/><path d=\"M 460 82 M 490 82 L 490 108 M 460 108\" fill=\"none\" pointer-events=\"all\" stroke=\"#000000\" stroke-miterlimit=\"10\"/><rect fill=\"none\" height=\"26\" pointer-events=\"all\" stroke=\"none\" width=\"160\" x=\"460\" y=\"108\"/><rect fill=\"none\" height=\"26\" pointer-events=\"all\" stroke=\"none\" width=\"160\" x=\"460\" y=\"108\"/><path d=\"M 460 108 M 620 108 M 620 134 M 460 134\" fill=\"none\" pointer-events=\"all\" stroke=\"#000000\" stroke-miterlimit=\"10\"/><g clip-path=\"url(#mx-clip-495-114-120-24-0)\" fill=\"#000000\" font-family=\"Helvetica\" font-size=\"12px\"><text x=\"496.5\" y=\"126.5\">FlightID</text></g><rect fill=\"none\" height=\"26\" pointer-events=\"all\" stroke=\"none\" width=\"30\" x=\"460\" y=\"108\"/><rect fill=\"none\" height=\"26\" pointer-events=\"all\" stroke=\"none\" width=\"30\" x=\"460\" y=\"108\"/><path d=\"M 460 108 M 490 108 L 490 134 M 460 134\" fill=\"none\" pointer-events=\"all\" stroke=\"#000000\" stroke-miterlimit=\"10\"/><g clip-path=\"url(#mx-clip-465-114-20-24-0)\" fill=\"#000000\" font-family=\"Helvetica\" font-size=\"12px\"><text x=\"466.5\" y=\"126.5\">FK</text></g><rect fill=\"none\" height=\"10\" pointer-events=\"all\" stroke=\"none\" width=\"160\" x=\"460\" y=\"134\"/><rect fill=\"none\" height=\"10\" pointer-events=\"all\" stroke=\"none\" width=\"160\" x=\"460\" y=\"134\"/><path d=\"M 460 134 M 620 134 M 620 144 M 460 144\" fill=\"none\" pointer-events=\"all\" stroke=\"#000000\" stroke-miterlimit=\"10\"/><rect fill=\"none\" height=\"10\" pointer-events=\"all\" stroke=\"none\" width=\"30\" x=\"460\" y=\"134\"/><rect fill=\"none\" height=\"10\" pointer-events=\"all\" stroke=\"none\" width=\"30\" x=\"460\" y=\"134\"/><path d=\"M 460 134 M 490 134 L 490 144 M 460 144\" fill=\"none\" pointer-events=\"all\" stroke=\"#000000\" stroke-miterlimit=\"10\"/><path d=\"M 0 245 L 0 219 L 160 219 L 160 245\" fill=\"#e0e0e0\" pointer-events=\"all\" stroke=\"#000000\" stroke-miterlimit=\"10\"/><path d=\"M 0 245 L 0 399 L 160 399 L 160 245\" fill=\"#ffffff\" pointer-events=\"all\" stroke=\"#000000\" stroke-miterlimit=\"10\"/><path d=\"M 0 245 L 160 245\" fill=\"none\" pointer-events=\"all\" stroke=\"#000000\" stroke-miterlimit=\"10\"/><g fill=\"#000000\" font-family=\"Helvetica\" font-size=\"14px\" text-anchor=\"middle\"><text x=\"79.5\" y=\"237.5\">Airplane</text></g><rect fill=\"none\" height=\"30\" pointer-events=\"all\" stroke=\"none\" width=\"160\" x=\"0\" y=\"245\"/><rect fill=\"none\" height=\"30\" pointer-events=\"all\" stroke=\"none\" width=\"160\" x=\"0\" y=\"245\"/><path d=\"M 0 245 M 160 245 M 160 275 L 0 275\" fill=\"none\" pointer-events=\"all\" stroke=\"#000000\" stroke-miterlimit=\"10\"/><g clip-path=\"url(#mx-clip-35-246-120-28-0)\" fill=\"#000000\" font-family=\"Helvetica\" font-size=\"12px\" font-weight=\"bold\" text-decoration=\"underline\"><text x=\"36.5\" y=\"263.5\">AirplaneID</text></g><rect fill=\"none\" height=\"30\" pointer-events=\"all\" stroke=\"none\" width=\"30\" x=\"0\" y=\"245\"/><rect fill=\"none\" height=\"30\" pointer-events=\"all\" stroke=\"none\" width=\"30\" x=\"0\" y=\"245\"/><path d=\"M 0 245 M 30 245 L 30 275 M 0 275\" fill=\"none\" pointer-events=\"all\" stroke=\"#000000\" stroke-miterlimit=\"10\"/><g clip-path=\"url(#mx-clip-5-246-20-28-0)\" fill=\"#000000\" font-family=\"Helvetica\" font-size=\"12px\"><text x=\"6.5\" y=\"263.5\">PK</text></g><rect fill=\"none\" height=\"26\" pointer-events=\"all\" stroke=\"none\" width=\"160\" x=\"0\" y=\"275\"/><rect fill=\"none\" height=\"26\" pointer-events=\"all\" stroke=\"none\" width=\"160\" x=\"0\" y=\"275\"/><path d=\"M 0 275 M 160 275 M 160 301 M 0 301\" fill=\"none\" pointer-events=\"all\" stroke=\"#000000\" stroke-miterlimit=\"10\"/><g clip-path=\"url(#mx-clip-35-281-120-24-0)\" fill=\"#000000\" font-family=\"Helvetica\" font-size=\"12px\"><text x=\"36.5\" y=\"293.5\">Model</text></g><rect fill=\"none\" height=\"26\" pointer-events=\"all\" stroke=\"none\" width=\"30\" x=\"0\" y=\"275\"/><rect fill=\"none\" height=\"26\" pointer-events=\"all\" stroke=\"none\" width=\"30\" x=\"0\" y=\"275\"/><path d=\"M 0 275 M 30 275 L 30 301 M 0 301\" fill=\"none\" pointer-events=\"all\" stroke=\"#000000\" stroke-miterlimit=\"10\"/><rect fill=\"none\" height=\"26\" pointer-events=\"all\" stroke=\"none\" width=\"160\" x=\"0\" y=\"301\"/><rect fill=\"none\" height=\"26\" pointer-events=\"all\" stroke=\"none\" width=\"160\" x=\"0\" y=\"301\"/><path d=\"M 0 301 M 160 301 M 160 327 M 0 327\" fill=\"none\" pointer-events=\"all\" stroke=\"#000000\" stroke-miterlimit=\"10\"/><g clip-path=\"url(#mx-clip-35-307-120-24-0)\" fill=\"#000000\" font-family=\"Helvetica\" font-size=\"12px\"><text x=\"36.5\" y=\"319.5\">Rent</text></g><rect fill=\"none\" height=\"26\" pointer-events=\"all\" stroke=\"none\" width=\"30\" x=\"0\" y=\"301\"/><rect fill=\"none\" height=\"26\" pointer-events=\"all\" stroke=\"none\" width=\"30\" x=\"0\" y=\"301\"/><path d=\"M 0 301 M 30 301 L 30 327 M 0 327\" fill=\"none\" pointer-events=\"all\" stroke=\"#000000\" stroke-miterlimit=\"10\"/><rect fill=\"none\" height=\"26\" pointer-events=\"all\" stroke=\"none\" width=\"160\" x=\"0\" y=\"327\"/><rect fill=\"none\" height=\"26\" pointer-events=\"all\" stroke=\"none\" width=\"160\" x=\"0\" y=\"327\"/><path d=\"M 0 327 M 160 327 M 160 353 M 0 353\" fill=\"none\" pointer-events=\"all\" stroke=\"#000000\" stroke-miterlimit=\"10\"/><g clip-path=\"url(#mx-clip-35-333-120-24-0)\" fill=\"#000000\" font-family=\"Helvetica\" font-size=\"12px\"><text x=\"36.5\" y=\"345.5\">Gas tank size</text></g><rect fill=\"none\" height=\"26\" pointer-events=\"all\" stroke=\"none\" width=\"30\" x=\"0\" y=\"327\"/><rect fill=\"none\" height=\"26\" pointer-events=\"all\" stroke=\"none\" width=\"30\" x=\"0\" y=\"327\"/><path d=\"M 0 327 M 30 327 L 30 353 M 0 353\" fill=\"none\" pointer-events=\"all\" stroke=\"#000000\" stroke-miterlimit=\"10\"/><rect fill=\"none\" height=\"26\" pointer-events=\"all\" stroke=\"none\" width=\"160\" x=\"0\" y=\"353\"/><rect fill=\"none\" height=\"26\" pointer-events=\"all\" stroke=\"none\" width=\"160\" x=\"0\" y=\"353\"/><path d=\"M 0 353 M 160 353 M 160 379 M 0 379\" fill=\"none\" pointer-events=\"all\" stroke=\"#000000\" stroke-miterlimit=\"10\"/><g clip-path=\"url(#mx-clip-35-359-120-24-0)\" fill=\"#000000\" font-family=\"Helvetica\" font-size=\"12px\"><text x=\"36.5\" y=\"371.5\">PilotID</text></g><rect fill=\"none\" height=\"26\" pointer-events=\"all\" stroke=\"none\" width=\"30\" x=\"0\" y=\"353\"/><rect fill=\"none\" height=\"26\" pointer-events=\"all\" stroke=\"none\" width=\"30\" x=\"0\" y=\"353\"/><path d=\"M 0 353 M 30 353 L 30 379 M 0 379\" fill=\"none\" pointer-events=\"all\" stroke=\"#000000\" stroke-miterlimit=\"10\"/><g clip-path=\"url(#mx-clip-5-359-20-24-0)\" fill=\"#000000\" font-family=\"Helvetica\" font-size=\"12px\"><text x=\"6.5\" y=\"371.5\">FK</text></g><rect fill=\"none\" height=\"10\" pointer-events=\"all\" stroke=\"none\" width=\"160\" x=\"0\" y=\"379\"/><rect fill=\"none\" height=\"10\" pointer-events=\"all\" stroke=\"none\" width=\"160\" x=\"0\" y=\"379\"/><path d=\"M 0 379 M 160 379 M 160 389 M 0 389\" fill=\"none\" pointer-events=\"all\" stroke=\"#000000\" stroke-miterlimit=\"10\"/><rect fill=\"none\" height=\"10\" pointer-events=\"all\" stroke=\"none\" width=\"30\" x=\"0\" y=\"379\"/><rect fill=\"none\" height=\"10\" pointer-events=\"all\" stroke=\"none\" width=\"30\" x=\"0\" y=\"379\"/><path d=\"M 0 379 M 30 379 L 30 389 M 0 389\" fill=\"none\" pointer-events=\"all\" stroke=\"#000000\" stroke-miterlimit=\"10\"/><rect fill=\"none\" height=\"10\" pointer-events=\"all\" stroke=\"none\" width=\"160\" x=\"0\" y=\"389\"/><rect fill=\"none\" height=\"10\" pointer-events=\"all\" stroke=\"none\" width=\"160\" x=\"0\" y=\"389\"/><path d=\"M 0 389 M 160 389 M 160 399 M 0 399\" fill=\"none\" pointer-events=\"all\" stroke=\"#000000\" stroke-miterlimit=\"10\"/><rect fill=\"none\" height=\"10\" pointer-events=\"all\" stroke=\"none\" width=\"30\" x=\"0\" y=\"389\"/><rect fill=\"none\" height=\"10\" pointer-events=\"all\" stroke=\"none\" width=\"30\" x=\"0\" y=\"389\"/><path d=\"M 0 389 M 30 389 L 30 399 M 0 399\" fill=\"none\" pointer-events=\"all\" stroke=\"#000000\" stroke-miterlimit=\"10\"/><path d=\"M 350 224 L 350 198 L 510 198 L 510 224\" fill=\"#e0e0e0\" pointer-events=\"all\" stroke=\"#000000\" stroke-miterlimit=\"10\"/><path d=\"M 350 224 L 350 368 L 510 368 L 510 224\" fill=\"#ffffff\" pointer-events=\"all\" stroke=\"#000000\" stroke-miterlimit=\"10\"/><path d=\"M 350 224 L 510 224\" fill=\"none\" pointer-events=\"all\" stroke=\"#000000\" stroke-miterlimit=\"10\"/><g fill=\"#000000\" font-family=\"Helvetica\" font-size=\"14px\" text-anchor=\"middle\"><text x=\"429.5\" y=\"216.5\">Pilot</text></g><rect fill=\"none\" height=\"30\" pointer-events=\"all\" stroke=\"none\" width=\"160\" x=\"350\" y=\"224\"/><rect fill=\"none\" height=\"30\" pointer-events=\"all\" stroke=\"none\" width=\"160\" x=\"350\" y=\"224\"/><path d=\"M 350 224 M 510 224 M 510 254 L 350 254\" fill=\"none\" pointer-events=\"all\" stroke=\"#000000\" stroke-miterlimit=\"10\"/><g clip-path=\"url(#mx-clip-385-225-120-28-0)\" fill=\"#000000\" font-family=\"Helvetica\" font-size=\"12px\" font-weight=\"bold\" text-decoration=\"underline\"><text x=\"386.5\" y=\"242.5\">PilotID</text></g><rect fill=\"none\" height=\"30\" pointer-events=\"all\" stroke=\"none\" width=\"30\" x=\"350\" y=\"224\"/><rect fill=\"none\" height=\"30\" pointer-events=\"all\" stroke=\"none\" width=\"30\" x=\"350\" y=\"224\"/><path d=\"M 350 224 M 380 224 L 380 254 M 350 254\" fill=\"none\" pointer-events=\"all\" stroke=\"#000000\" stroke-miterlimit=\"10\"/><g clip-path=\"url(#mx-clip-355-225-20-28-0)\" fill=\"#000000\" font-family=\"Helvetica\" font-size=\"12px\"><text x=\"356.5\" y=\"242.5\">PK</text></g><rect fill=\"none\" height=\"26\" pointer-events=\"all\" stroke=\"none\" width=\"160\" x=\"350\" y=\"254\"/><rect fill=\"none\" height=\"26\" pointer-events=\"all\" stroke=\"none\" width=\"160\" x=\"350\" y=\"254\"/><path d=\"M 350 254 M 510 254 M 510 280 M 350 280\" fill=\"none\" pointer-events=\"all\" stroke=\"#000000\" stroke-miterlimit=\"10\"/><g clip-path=\"url(#mx-clip-385-260-120-24-0)\" fill=\"#000000\" font-family=\"Helvetica\" font-size=\"12px\"><text x=\"386.5\" y=\"272.5\">Time</text></g><rect fill=\"none\" height=\"26\" pointer-events=\"all\" stroke=\"none\" width=\"30\" x=\"350\" y=\"254\"/><rect fill=\"none\" height=\"26\" pointer-events=\"all\" stroke=\"none\" width=\"30\" x=\"350\" y=\"254\"/><path d=\"M 350 254 M 380 254 L 380 280 M 350 280\" fill=\"none\" pointer-events=\"all\" stroke=\"#000000\" stroke-miterlimit=\"10\"/><rect fill=\"none\" height=\"26\" pointer-events=\"all\" stroke=\"none\" width=\"160\" x=\"350\" y=\"280\"/><rect fill=\"none\" height=\"26\" pointer-events=\"all\" stroke=\"none\" width=\"160\" x=\"350\" y=\"280\"/><path d=\"M 350 280 M 510 280 M 510 306 M 350 306\" fill=\"none\" pointer-events=\"all\" stroke=\"#000000\" stroke-miterlimit=\"10\"/><g clip-path=\"url(#mx-clip-385-286-120-24-0)\" fill=\"#000000\" font-family=\"Helvetica\" font-size=\"12px\"><text x=\"386.5\" y=\"298.5\">Distance</text></g><rect fill=\"none\" height=\"26\" pointer-events=\"all\" stroke=\"none\" width=\"30\" x=\"350\" y=\"280\"/><rect fill=\"none\" height=\"26\" pointer-events=\"all\" stroke=\"none\" width=\"30\" x=\"350\" y=\"280\"/><path d=\"M 350 280 M 380 280 L 380 306 M 350 306\" fill=\"none\" pointer-events=\"all\" stroke=\"#000000\" stroke-miterlimit=\"10\"/><rect fill=\"none\" height=\"26\" pointer-events=\"all\" stroke=\"none\" width=\"160\" x=\"350\" y=\"306\"/><rect fill=\"none\" height=\"26\" pointer-events=\"all\" stroke=\"none\" width=\"160\" x=\"350\" y=\"306\"/><path d=\"M 350 306 M 510 306 M 510 332 M 350 332\" fill=\"none\" pointer-events=\"all\" stroke=\"#000000\" stroke-miterlimit=\"10\"/><g clip-path=\"url(#mx-clip-385-312-120-24-0)\" fill=\"#000000\" font-family=\"Helvetica\" font-size=\"12px\"><text x=\"386.5\" y=\"324.5\">FlightID</text></g><rect fill=\"none\" height=\"26\" pointer-events=\"all\" stroke=\"none\" width=\"30\" x=\"350\" y=\"306\"/><rect fill=\"none\" height=\"26\" pointer-events=\"all\" stroke=\"none\" width=\"30\" x=\"350\" y=\"306\"/><path d=\"M 350 306 M 380 306 L 380 332 M 350 332\" fill=\"none\" pointer-events=\"all\" stroke=\"#000000\" stroke-miterlimit=\"10\"/><g clip-path=\"url(#mx-clip-355-312-20-24-0)\" fill=\"#000000\" font-family=\"Helvetica\" font-size=\"12px\"><text x=\"356.5\" y=\"324.5\">FK</text></g><rect fill=\"none\" height=\"26\" pointer-events=\"all\" stroke=\"none\" width=\"160\" x=\"350\" y=\"332\"/><rect fill=\"none\" height=\"26\" pointer-events=\"all\" stroke=\"none\" width=\"160\" x=\"350\" y=\"332\"/><path d=\"M 350 332 M 510 332 M 510 358 M 350 358\" fill=\"none\" pointer-events=\"all\" stroke=\"#000000\" stroke-miterlimit=\"10\"/><g clip-path=\"url(#mx-clip-385-338-120-24-0)\" fill=\"#000000\" font-family=\"Helvetica\" font-size=\"12px\"><text x=\"386.5\" y=\"350.5\">Cost</text></g><rect fill=\"none\" height=\"26\" pointer-events=\"all\" stroke=\"none\" width=\"30\" x=\"350\" y=\"332\"/><rect fill=\"none\" height=\"26\" pointer-events=\"all\" stroke=\"none\" width=\"30\" x=\"350\" y=\"332\"/><path d=\"M 350 332 M 380 332 L 380 358 M 350 358\" fill=\"none\" pointer-events=\"all\" stroke=\"#000000\" stroke-miterlimit=\"10\"/><rect fill=\"none\" height=\"10\" pointer-events=\"all\" stroke=\"none\" width=\"160\" x=\"350\" y=\"358\"/><rect fill=\"none\" height=\"10\" pointer-events=\"all\" stroke=\"none\" width=\"160\" x=\"350\" y=\"358\"/><path d=\"M 350 358 M 510 358 M 510 368 M 350 368\" fill=\"none\" pointer-events=\"all\" stroke=\"#000000\" stroke-miterlimit=\"10\"/><rect fill=\"none\" height=\"10\" pointer-events=\"all\" stroke=\"none\" width=\"30\" x=\"350\" y=\"358\"/><rect fill=\"none\" height=\"10\" pointer-events=\"all\" stroke=\"none\" width=\"30\" x=\"350\" y=\"358\"/><path d=\"M 350 358 M 380 358 L 380 368 M 350 368\" fill=\"none\" pointer-events=\"all\" stroke=\"#000000\" stroke-miterlimit=\"10\"/><path d=\"M 350 437 L 350 411 L 510 411 L 510 437\" fill=\"#e0e0e0\" pointer-events=\"all\" stroke=\"#000000\" stroke-miterlimit=\"10\"/><path d=\"M 350 437 L 350 577 L 510 577 L 510 437\" fill=\"#ffffff\" pointer-events=\"all\" stroke=\"#000000\" stroke-miterlimit=\"10\"/><path d=\"M 350 437 L 510 437\" fill=\"none\" pointer-events=\"all\" stroke=\"#000000\" stroke-miterlimit=\"10\"/><g fill=\"#000000\" font-family=\"Helvetica\" font-size=\"14px\" text-anchor=\"middle\"><text x=\"429.5\" y=\"429.5\">Cost</text></g><rect fill=\"none\" height=\"30\" pointer-events=\"all\" stroke=\"none\" width=\"160\" x=\"350\" y=\"437\"/><rect fill=\"none\" height=\"30\" pointer-events=\"all\" stroke=\"none\" width=\"160\" x=\"350\" y=\"437\"/><path d=\"M 350 437 M 510 437 M 510 467 L 350 467\" fill=\"none\" pointer-events=\"all\" stroke=\"#000000\" stroke-miterlimit=\"10\"/><g clip-path=\"url(#mx-clip-385-438-120-28-0)\" fill=\"#000000\" font-family=\"Helvetica\" font-size=\"12px\" font-weight=\"bold\" text-decoration=\"underline\"><text x=\"386.5\" y=\"455.5\">CostID</text></g><rect fill=\"none\" height=\"30\" pointer-events=\"all\" stroke=\"none\" width=\"30\" x=\"350\" y=\"437\"/><rect fill=\"none\" height=\"30\" pointer-events=\"all\" stroke=\"none\" width=\"30\" x=\"350\" y=\"437\"/><path d=\"M 350 437 M 380 437 L 380 467 M 350 467\" fill=\"none\" pointer-events=\"all\" stroke=\"#000000\" stroke-miterlimit=\"10\"/><g clip-path=\"url(#mx-clip-355-438-20-28-0)\" fill=\"#000000\" font-family=\"Helvetica\" font-size=\"12px\"><text x=\"356.5\" y=\"455.5\">PK</text></g><rect fill=\"none\" height=\"26\" pointer-events=\"all\" stroke=\"none\" width=\"160\" x=\"350\" y=\"467\"/><rect fill=\"none\" height=\"26\" pointer-events=\"all\" stroke=\"none\" width=\"160\" x=\"350\" y=\"467\"/><path d=\"M 350 467 M 510 467 M 510 493 M 350 493\" fill=\"none\" pointer-events=\"all\" stroke=\"#000000\" stroke-miterlimit=\"10\"/><g clip-path=\"url(#mx-clip-385-473-120-24-0)\" fill=\"#000000\" font-family=\"Helvetica\" font-size=\"12px\"><text x=\"386.5\" y=\"485.5\">AirplaneID</text></g><rect fill=\"none\" height=\"26\" pointer-events=\"all\" stroke=\"none\" width=\"30\" x=\"350\" y=\"467\"/><rect fill=\"none\" height=\"26\" pointer-events=\"all\" stroke=\"none\" width=\"30\" x=\"350\" y=\"467\"/><path d=\"M 350 467 M 380 467 L 380 493 M 350 493\" fill=\"none\" pointer-events=\"all\" stroke=\"#000000\" stroke-miterlimit=\"10\"/><g clip-path=\"url(#mx-clip-355-473-20-24-0)\" fill=\"#000000\" font-family=\"Helvetica\" font-size=\"12px\"><text x=\"356.5\" y=\"485.5\">FK</text></g><rect fill=\"none\" height=\"26\" pointer-events=\"all\" stroke=\"none\" width=\"160\" x=\"350\" y=\"493\"/><rect fill=\"none\" height=\"26\" pointer-events=\"all\" stroke=\"none\" width=\"160\" x=\"350\" y=\"493\"/><path d=\"M 350 493 M 510 493 M 510 519 M 350 519\" fill=\"none\" pointer-events=\"all\" stroke=\"#000000\" stroke-miterlimit=\"10\"/><g clip-path=\"url(#mx-clip-385-499-120-24-0)\" fill=\"#000000\" font-family=\"Helvetica\" font-size=\"12px\"><text x=\"386.5\" y=\"511.5\">Fuel</text></g><rect fill=\"none\" height=\"26\" pointer-events=\"all\" stroke=\"none\" width=\"30\" x=\"350\" y=\"493\"/><rect fill=\"none\" height=\"26\" pointer-events=\"all\" stroke=\"none\" width=\"30\" x=\"350\" y=\"493\"/><path d=\"M 350 493 M 380 493 L 380 519 M 350 519\" fill=\"none\" pointer-events=\"all\" stroke=\"#000000\" stroke-miterlimit=\"10\"/><rect fill=\"none\" height=\"26\" pointer-events=\"all\" stroke=\"none\" width=\"160\" x=\"350\" y=\"519\"/><rect fill=\"none\" height=\"26\" pointer-events=\"all\" stroke=\"none\" width=\"160\" x=\"350\" y=\"519\"/><path d=\"M 350 519 M 510 519 M 510 545 M 350 545\" fill=\"none\" pointer-events=\"all\" stroke=\"#000000\" stroke-miterlimit=\"10\"/><g clip-path=\"url(#mx-clip-385-525-120-24-0)\" fill=\"#000000\" font-family=\"Helvetica\" font-size=\"12px\"><text x=\"386.5\" y=\"537.5\">Rent</text></g><rect fill=\"none\" height=\"26\" pointer-events=\"all\" stroke=\"none\" width=\"30\" x=\"350\" y=\"519\"/><rect fill=\"none\" height=\"26\" pointer-events=\"all\" stroke=\"none\" width=\"30\" x=\"350\" y=\"519\"/><path d=\"M 350 519 M 380 519 L 380 545 M 350 545\" fill=\"none\" pointer-events=\"all\" stroke=\"#000000\" stroke-miterlimit=\"10\"/><rect fill=\"none\" height=\"32\" pointer-events=\"all\" stroke=\"none\" width=\"160\" x=\"350\" y=\"545\"/><rect fill=\"none\" height=\"32\" pointer-events=\"all\" stroke=\"none\" width=\"160\" x=\"350\" y=\"545\"/><path d=\"M 350 545 M 510 545 M 510 577 M 350 577\" fill=\"none\" pointer-events=\"all\" stroke=\"#000000\" stroke-miterlimit=\"10\"/><g clip-path=\"url(#mx-clip-385-551-120-30-0)\" fill=\"#000000\" font-family=\"Helvetica\" font-size=\"12px\"><text x=\"386.5\" y=\"563.5\">Instructor</text></g><rect fill=\"none\" height=\"32\" pointer-events=\"all\" stroke=\"none\" width=\"30\" x=\"350\" y=\"545\"/><rect fill=\"none\" height=\"32\" pointer-events=\"all\" stroke=\"none\" width=\"30\" x=\"350\" y=\"545\"/><path d=\"M 350 545 M 380 545 L 380 577 M 350 577\" fill=\"none\" pointer-events=\"all\" stroke=\"#000000\" stroke-miterlimit=\"10\"/><path d=\"M 160 366 L 180 366 Q 190 366 197.15 359.01 L 312.85 245.99 Q 320 239 330 239 L 350 239\" fill=\"none\" pointer-events=\"stroke\" stroke=\"#000000\" stroke-miterlimit=\"10\"/><path d=\"M 164 362 L 164 370 M 168 362 L 168 370\" fill=\"none\" pointer-events=\"all\" stroke=\"#000000\" stroke-miterlimit=\"10\"/><path d=\"M 346 243 L 346 235 M 342 243 L 342 235\" fill=\"none\" pointer-events=\"all\" stroke=\"#000000\" stroke-miterlimit=\"10\"/><g transform=\"translate(240.5,304.5)\"><switch><foreignObject height=\"12\" pointer-events=\"all\" requiredFeatures=\"http://www.w3.org/TR/SVG11/feature#Extensibility\" style=\"overflow:visible;\" width=\"19\"><div style=\"display: inline-block; font-size: 12px; font-family: Helvetica; color: rgb(0, 0, 0); line-height: 1.2; vertical-align: top; white-space: nowrap; text-align: center;\" xmlns=\"http://www.w3.org/1999/xhtml\"><div style=\"display:inline-block;text-align:inherit;text-decoration:inherit;background-color:#ffffff;\" xmlns=\"http://www.w3.org/1999/xhtml\">has</div></div></foreignObject><text fill=\"#000000\" font-family=\"Helvetica\" font-size=\"12px\" text-anchor=\"middle\" x=\"10\" y=\"12\">has</text></switch></g><g transform=\"translate(171.5,361.5)\"><switch><foreignObject height=\"12\" pointer-events=\"all\" requiredFeatures=\"http://www.w3.org/TR/SVG11/feature#Extensibility\" style=\"overflow:visible;\" width=\"24\"><div style=\"display: inline-block; font-size: 12px; font-family: Helvetica; color: rgb(0, 0, 0); line-height: 1.2; vertical-align: top; white-space: nowrap; text-align: center;\" xmlns=\"http://www.w3.org/1999/xhtml\"><div style=\"display:inline-block;text-align:inherit;text-decoration:inherit;background-color:#ffffff;\" xmlns=\"http://www.w3.org/1999/xhtml\">(1,1)</div></div></foreignObject><text fill=\"#000000\" font-family=\"Helvetica\" font-size=\"12px\" text-anchor=\"middle\" x=\"12\" y=\"12\">(1,1)</text></switch></g><g transform=\"translate(303.5,236.5)\"><switch><foreignObject height=\"12\" pointer-events=\"all\" requiredFeatures=\"http://www.w3.org/TR/SVG11/feature#Extensibility\" style=\"overflow:visible;\" width=\"24\"><div style=\"display: inline-block; font-size: 12px; font-family: Helvetica; color: rgb(0, 0, 0); line-height: 1.2; vertical-align: top; white-space: nowrap; text-align: center;\" xmlns=\"http://www.w3.org/1999/xhtml\"><div style=\"display:inline-block;text-align:inherit;text-decoration:inherit;background-color:#ffffff;\" xmlns=\"http://www.w3.org/1999/xhtml\">(1,1)</div></div></foreignObject><text fill=\"#000000\" font-family=\"Helvetica\" font-size=\"12px\" text-anchor=\"middle\" x=\"12\" y=\"12\">(1,1)</text></switch></g><path d=\"M 190 41 L 210 41 Q 220 41 223.38 50.41 L 316.62 309.59 Q 320 319 330 319 L 350 319\" fill=\"none\" pointer-events=\"stroke\" stroke=\"#000000\" stroke-miterlimit=\"10\"/><path d=\"M 194 37 L 194 45 M 198 37 L 198 45\" fill=\"none\" pointer-events=\"all\" stroke=\"#000000\" stroke-miterlimit=\"10\"/><path d=\"M 346 323 L 346 315 M 342 323 L 342 315\" fill=\"none\" pointer-events=\"all\" stroke=\"#000000\" stroke-miterlimit=\"10\"/><g transform=\"translate(249.5,200.5)\"><switch><foreignObject height=\"12\" pointer-events=\"all\" requiredFeatures=\"http://www.w3.org/TR/SVG11/feature#Extensibility\" style=\"overflow:visible;\" width=\"56\"><div style=\"display: inline-block; font-size: 12px; font-family: Helvetica; color: rgb(0, 0, 0); line-height: 1.2; vertical-align: top; white-space: nowrap; text-align: center;\" xmlns=\"http://www.w3.org/1999/xhtml\"><div style=\"display:inline-block;text-align:inherit;text-decoration:inherit;background-color:#ffffff;\" xmlns=\"http://www.w3.org/1999/xhtml\">is flown by</div></div></foreignObject><text fill=\"#000000\" font-family=\"Helvetica\" font-size=\"12px\" text-anchor=\"middle\" x=\"28\" y=\"12\">is flown by</text></switch></g><path d=\"M 190 41 L 210 41 Q 220 41 229.34 44.56 L 420.66 117.44 Q 430 121 440 121 L 460 121\" fill=\"none\" pointer-events=\"stroke\" stroke=\"#000000\" stroke-miterlimit=\"10\"/><path d=\"M 194 37 L 194 45 M 198 37 L 198 45\" fill=\"none\" pointer-events=\"all\" stroke=\"#000000\" stroke-miterlimit=\"10\"/><path d=\"M 456 125 L 456 117 M 452 125 L 452 117\" fill=\"none\" pointer-events=\"all\" stroke=\"#000000\" stroke-miterlimit=\"10\"/><g transform=\"translate(368.5,95.5)\"><switch><foreignObject height=\"12\" pointer-events=\"all\" requiredFeatures=\"http://www.w3.org/TR/SVG11/feature#Extensibility\" style=\"overflow:visible;\" width=\"42\"><div style=\"display: inline-block; font-size: 12px; font-family: Helvetica; color: rgb(0, 0, 0); line-height: 1.2; vertical-align: top; white-space: nowrap; text-align: center;\" xmlns=\"http://www.w3.org/1999/xhtml\"><div style=\"display:inline-block;text-align:inherit;text-decoration:inherit;background-color:#ffffff;\" xmlns=\"http://www.w3.org/1999/xhtml\">Flies on</div></div></foreignObject><text fill=\"#000000\" font-family=\"Helvetica\" font-size=\"12px\" text-anchor=\"middle\" x=\"21\" y=\"12\">Flies on</text></switch></g><path d=\"M 160 260 L 180 260 Q 190 260 195.09 268.61 L 314.91 471.39 Q 320 480 330 480 L 350 480\" fill=\"none\" pointer-events=\"stroke\" stroke=\"#000000\" stroke-miterlimit=\"10\"/><path d=\"M 164 256 L 164 264 M 168 256 L 168 264\" fill=\"none\" pointer-events=\"all\" stroke=\"#000000\" stroke-miterlimit=\"10\"/><path d=\"M 346 484 L 346 476 M 342 484 L 342 476\" fill=\"none\" pointer-events=\"all\" stroke=\"#000000\" stroke-miterlimit=\"10\"/><g transform=\"translate(256.5,382.5)\"><switch><foreignObject height=\"12\" pointer-events=\"all\" requiredFeatures=\"http://www.w3.org/TR/SVG11/feature#Extensibility\" style=\"overflow:visible;\" width=\"28\"><div style=\"display: inline-block; font-size: 12px; font-family: Helvetica; color: rgb(0, 0, 0); line-height: 1.2; vertical-align: top; white-space: nowrap; text-align: center;\" xmlns=\"http://www.w3.org/1999/xhtml\"><div style=\"display:inline-block;text-align:inherit;text-decoration:inherit;background-color:#ffffff;\" xmlns=\"http://www.w3.org/1999/xhtml\">costs</div></div></foreignObject><text fill=\"#000000\" font-family=\"Helvetica\" font-size=\"12px\" text-anchor=\"middle\" x=\"14\" y=\"12\">costs</text></switch></g><g transform=\"translate(307.5,465.5)\"><switch><foreignObject height=\"12\" pointer-events=\"all\" requiredFeatures=\"http://www.w3.org/TR/SVG11/feature#Extensibility\" style=\"overflow:visible;\" width=\"24\"><div style=\"display: inline-block; font-size: 12px; font-family: Helvetica; color: rgb(0, 0, 0); line-height: 1.2; vertical-align: top; white-space: nowrap; text-align: center;\" xmlns=\"http://www.w3.org/1999/xhtml\"><div style=\"display:inline-block;text-align:inherit;text-decoration:inherit;background-color:#ffffff;\" xmlns=\"http://www.w3.org/1999/xhtml\">(1,1)</div></div></foreignObject><text fill=\"#000000\" font-family=\"Helvetica\" font-size=\"12px\" text-anchor=\"middle\" x=\"12\" y=\"12\">(1,1)</text></switch></g><g transform=\"translate(188.5,265.5)\"><switch><foreignObject height=\"12\" pointer-events=\"all\" requiredFeatures=\"http://www.w3.org/TR/SVG11/feature#Extensibility\" style=\"overflow:visible;\" width=\"24\"><div style=\"display: inline-block; font-size: 12px; font-family: Helvetica; color: rgb(0, 0, 0); line-height: 1.2; vertical-align: top; white-space: nowrap; text-align: center;\" xmlns=\"http://www.w3.org/1999/xhtml\"><div style=\"display:inline-block;text-align:inherit;text-decoration:inherit;background-color:#ffffff;\" xmlns=\"http://www.w3.org/1999/xhtml\">(1,1)</div></div></foreignObject><text fill=\"#000000\" font-family=\"Helvetica\" font-size=\"12px\" text-anchor=\"middle\" x=\"12\" y=\"12\">(1,1)</text></switch></g><path d=\"M 194 154 L 214 154 Q 224 154 232.77 149.19 L 421.23 45.81 Q 430 41 440 41 L 460 41\" fill=\"none\" pointer-events=\"stroke\" stroke=\"#000000\" stroke-miterlimit=\"10\"/><path d=\"M 198 150 L 198 158 M 202 150 L 202 158\" fill=\"none\" pointer-events=\"all\" stroke=\"#000000\" stroke-miterlimit=\"10\"/><ellipse cx=\"448\" cy=\"41\" fill=\"#ffffff\" pointer-events=\"all\" rx=\"3\" ry=\"3\" stroke=\"#000000\"/><path d=\"M 460 37 L 452 41 L 460 45\" fill=\"none\" pointer-events=\"all\" stroke=\"#000000\" stroke-miterlimit=\"10\"/><g transform=\"translate(207.5,146.5)\"><switch><foreignObject height=\"12\" pointer-events=\"all\" requiredFeatures=\"http://www.w3.org/TR/SVG11/feature#Extensibility\" style=\"overflow:visible;\" width=\"24\"><div style=\"display: inline-block; font-size: 12px; font-family: Helvetica; color: rgb(0, 0, 0); line-height: 1.2; vertical-align: top; white-space: nowrap; text-align: center;\" xmlns=\"http://www.w3.org/1999/xhtml\"><div style=\"display:inline-block;text-align:inherit;text-decoration:inherit;background-color:#ffffff;\" xmlns=\"http://www.w3.org/1999/xhtml\">(1,1)</div></div></foreignObject><text fill=\"#000000\" font-family=\"Helvetica\" font-size=\"12px\" text-anchor=\"middle\" x=\"12\" y=\"12\">(1,1)</text></switch></g><g transform=\"translate(405.5,37.5)\"><switch><foreignObject height=\"12\" pointer-events=\"all\" requiredFeatures=\"http://www.w3.org/TR/SVG11/feature#Extensibility\" style=\"overflow:visible;\" width=\"38\"><div style=\"display: inline-block; font-size: 12px; font-family: Helvetica; color: rgb(0, 0, 0); line-height: 1.2; vertical-align: top; white-space: nowrap; text-align: center;\" xmlns=\"http://www.w3.org/1999/xhtml\"><div style=\"display:inline-block;text-align:inherit;text-decoration:inherit;background-color:#ffffff;\" xmlns=\"http://www.w3.org/1999/xhtml\">(0,500)</div></div></foreignObject><text fill=\"#000000\" font-family=\"Helvetica\" font-size=\"12px\" text-anchor=\"middle\" x=\"19\" y=\"12\">(0,500)</text></switch></g><g transform=\"translate(290.5,95.5)\"><switch><foreignObject height=\"12\" pointer-events=\"all\" requiredFeatures=\"http://www.w3.org/TR/SVG11/feature#Extensibility\" style=\"overflow:visible;\" width=\"25\"><div style=\"display: inline-block; font-size: 12px; font-family: Helvetica; color: rgb(0, 0, 0); line-height: 1.2; vertical-align: top; white-space: nowrap; text-align: center;\" xmlns=\"http://www.w3.org/1999/xhtml\"><div style=\"display:inline-block;text-align:inherit;text-decoration:inherit;background-color:#ffffff;\" xmlns=\"http://www.w3.org/1999/xhtml\">Flies</div></div></foreignObject><text fill=\"#000000\" font-family=\"Helvetica\" font-size=\"12px\" text-anchor=\"middle\" x=\"13\" y=\"12\">Flies</text></switch></g></g></svg>"
      ],
      "text/plain": [
       "<IPython.core.display.SVG object>"
      ]
     },
     "execution_count": 1,
     "metadata": {},
     "output_type": "execute_result"
    }
   ],
   "source": [
    "from IPython.display import SVG\n",
    "SVG(filename = 'desktop/GroupAssignment4.svg')"
   ]
  },
  {
   "cell_type": "code",
   "execution_count": 0,
   "metadata": {
    "colab": {},
    "colab_type": "code",
    "id": "z_ldimo3ZUfb"
   },
   "outputs": [],
   "source": [
    "import sqlite3 # Once imported in a single notebook, it is available to us throughout the rest of the notebook. \n",
    "# connect to database, if not there, create it.\n",
    "connectionToDatabase = sqlite3.connect('FlightData') \n",
    "\n",
    "cursor = connectionToDatabase.cursor()\n",
    "cursor.execute('''drop table IF EXISTS Flight''')\n",
    "connectionToDatabase.commit()\n",
    "\n",
    "cursor.execute('''create table IF NOT EXISTS Flight (FlightID text PRIMARY KEY, PilotID int, FlightTime int, FlightDistance int, NumberOfPassengers int)''')\n",
    "connectionToDatabase.commit()\n",
    "\n",
    "cursor = connectionToDatabase.cursor()\n",
    "cursor.execute('''drop table IF EXISTS Passenger''')\n",
    "connectionToDatabase.commit()\n",
    "\n",
    "cursor.execute('''create table IF NOT EXISTS Passenger (PassengerID text PRIMARY KEY, FlightID int, FName text, LName text)''')\n",
    "connectionToDatabase.commit()\n",
    "\n",
    "cursor = connectionToDatabase.cursor()\n",
    "cursor.execute('''drop table IF EXISTS Airplane''')\n",
    "connectionToDatabase.commit()\n",
    "\n",
    "cursor.execute('''create table IF NOT EXISTS Airplane (AirplaneID int PRIMARY KEY, PilotID int, Model text, Rent int, GasTankSize int) ''')\n",
    "connectionToDatabase.commit()\n",
    "\n",
    "cursor = connectionToDatabase.cursor()\n",
    "cursor.execute('''drop table IF EXISTS Pilot''')\n",
    "connectionToDatabase.commit()\n",
    "\n",
    "cursor.execute('''create table IF NOT EXISTS Pilot (PilotID int PRIMARY KEY, time int, distance int, cost int) ''')\n",
    "connectionToDatabase.commit()\n",
    "\n",
    "\n",
    "cursor = connectionToDatabase.cursor()\n",
    "cursor.execute('''drop table IF EXISTS Cost''')\n",
    "connectionToDatabase.commit()\n",
    "\n",
    "cursor.execute('''create table IF NOT EXISTS Cost (CostID int PRIMARY KEY, AirplaneID int, fuel int, rent int, instructor text) ''')\n",
    "connectionToDatabase.commit()"
   ]
  },
  {
   "cell_type": "markdown",
   "metadata": {
    "colab_type": "text",
    "id": "cthyajgm-eZW"
   },
   "source": [
    "* Flight time: hours, flight distance: miles\n",
    "* Gas tank size: gallons, rent: dollars per hour\n",
    "* Time: hours flown, Distance: total miles flown, cost: total cost\n",
    "* Pilot cost: total cost affilated\n",
    "*CostID: fuel: cost of flight, rent total"
   ]
  },
  {
   "cell_type": "code",
   "execution_count": 0,
   "metadata": {
    "colab": {},
    "colab_type": "code",
    "id": "MqIKa6fKcLpk"
   },
   "outputs": [],
   "source": [
    "cursor.execute('''insert into Flight values ('020101', '123456', '2', '500', '3');''')\n",
    "connectionToDatabase.commit()\n",
    "cursor.execute('''insert into Flight values ('020102', '112345', '5', '1100', '5');''')\n",
    "connectionToDatabase.commit()\n",
    "cursor.execute('''insert into Flight values ('020103', '122345', '9', '2500', '10');''')\n",
    "connectionToDatabase.commit()\n",
    "cursor.execute('''insert into Flight values ('020104', '123345', '1', '200', '1');''')\n",
    "connectionToDatabase.commit()\n",
    "cursor.execute('''insert into Flight values ('020105', '124453', '10', '2700', '5');''')\n",
    "connectionToDatabase.commit()\n",
    "\n",
    "cursor.execute('''insert into Passenger values ('020108', '020101', 'Susan', 'Jones');''')\n",
    "connectionToDatabase.commit()\n",
    "cursor.execute('''insert into Passenger values ('020109', '020102', 'Mike', 'Wazowski');''')\n",
    "connectionToDatabase.commit()\n",
    "cursor.execute('''insert into Passenger values ('020100', '020103', 'Trace', 'McSorely');''')\n",
    "connectionToDatabase.commit()\n",
    "cursor.execute('''insert into Passenger values ('020101', '020104', 'James', 'Connor');''')\n",
    "connectionToDatabase.commit()\n",
    "cursor.execute('''insert into Passenger values ('020102', '020105', 'Joe', 'Jonas');''')\n",
    "connectionToDatabase.commit()\n",
    "\n",
    "cursor.execute('''insert into Airplane values ('05678', '123456', 'Cessna 152', '75', '50');''')\n",
    "connectionToDatabase.commit()\n",
    "cursor.execute('''insert into Airplane values ('05679', '112345', 'Cessna 150', '70', '100');''')\n",
    "connectionToDatabase.commit()\n",
    "cursor.execute('''insert into Airplane values ('05680', '122345', 'Cessna 152', '75', '50');''')\n",
    "connectionToDatabase.commit()\n",
    "cursor.execute('''insert into Airplane values ('05681', '123345', 'Cessna 152', '75', '50');''')\n",
    "connectionToDatabase.commit()\n",
    "cursor.execute('''insert into Airplane values ('05682', '124453', 'Cessna 150', '70', '100');''')\n",
    "connectionToDatabase.commit()\n",
    "\n",
    "cursor.execute('''insert into Pilot values ('123456', '27', '1578', '2025');''')\n",
    "connectionToDatabase.commit()\n",
    "cursor.execute('''insert into Pilot values ('112345', '50', '3000', '5500');''')\n",
    "connectionToDatabase.commit()\n",
    "cursor.execute('''insert into Pilot values ('122345', '65', '3500', '6300');''')\n",
    "connectionToDatabase.commit()\n",
    "cursor.execute('''insert into Pilot values ('123345', '10', '800', '750');''')\n",
    "connectionToDatabase.commit()\n",
    "cursor.execute('''insert into Pilot values ('124453', '24', '1200', '1850');''')\n",
    "connectionToDatabase.commit()\n",
    "\n",
    "cursor.execute('''insert into Cost values ('03', '05678', '130', '2025', 'Miles Sanders');''')\n",
    "connectionToDatabase.commit()\n",
    "cursor.execute('''insert into Cost values ('04', '05679', '550', '5500', 'Juju Smith-Shuster');''')\n",
    "connectionToDatabase.commit()\n",
    "cursor.execute('''insert into Cost values ('05', '05680', '780', '6300', 'Jim Berry');''')\n",
    "connectionToDatabase.commit()\n",
    "cursor.execute('''insert into Cost values ('06', '05681', '100', '750', 'Zac Efron');''')\n",
    "connectionToDatabase.commit()\n",
    "cursor.execute('''insert into Cost values ('07', '05682', '230', '1850', 'Kim Kardash');''')\n",
    "connectionToDatabase.commit()"
   ]
  },
  {
   "cell_type": "code",
   "execution_count": 0,
   "metadata": {
    "colab": {
     "base_uri": "https://localhost:8080/",
     "height": 105
    },
    "colab_type": "code",
    "id": "PXoAkx0nbvpt",
    "outputId": "eb53aab4-010e-442a-d611-0653ecaed777"
   },
   "outputs": [
    {
     "name": "stdout",
     "output_type": "stream",
     "text": [
      "('020101', 123456, 2, 500, 3)\n",
      "('020102', 112345, 5, 1100, 5)\n",
      "('020103', 122345, 9, 2500, 10)\n",
      "('020104', 123345, 1, 200, 1)\n",
      "('020105', 124453, 10, 2700, 5)\n"
     ]
    }
   ],
   "source": [
    "cursor.execute('''select * FROM Flight''')\n",
    "for row in cursor.fetchall():\n",
    "  print(row)"
   ]
  },
  {
   "cell_type": "code",
   "execution_count": 0,
   "metadata": {
    "colab": {
     "base_uri": "https://localhost:8080/",
     "height": 105
    },
    "colab_type": "code",
    "id": "bw71U5I1xXCn",
    "outputId": "fb5e02ba-86b0-4fe2-d10b-a554f7b5a824"
   },
   "outputs": [
    {
     "name": "stdout",
     "output_type": "stream",
     "text": [
      "('020108', 20101, 'Susan', 'Jones')\n",
      "('020109', 20102, 'Mike', 'Wazowski')\n",
      "('020100', 20103, 'Trace', 'McSorely')\n",
      "('020101', 20104, 'James', 'Connor')\n",
      "('020102', 20105, 'Joe', 'Jonas')\n"
     ]
    }
   ],
   "source": [
    "cursor.execute('''select * FROM Passenger''')\n",
    "for row in cursor.fetchall():\n",
    "  print(row)"
   ]
  },
  {
   "cell_type": "code",
   "execution_count": 0,
   "metadata": {
    "colab": {
     "base_uri": "https://localhost:8080/",
     "height": 105
    },
    "colab_type": "code",
    "id": "MG8cDlpdxbGk",
    "outputId": "f84e06d1-744c-44ae-c2a4-2a088ebc239e"
   },
   "outputs": [
    {
     "name": "stdout",
     "output_type": "stream",
     "text": [
      "(5678, 123456, 'Cessna 152', 75, 50)\n",
      "(5679, 112345, 'Cessna 150', 70, 100)\n",
      "(5680, 122345, 'Cessna 152', 75, 50)\n",
      "(5681, 123345, 'Cessna 152', 75, 50)\n",
      "(5682, 124453, 'Cessna 150', 70, 100)\n"
     ]
    }
   ],
   "source": [
    "cursor.execute('''select * FROM Airplane''')\n",
    "for row in cursor.fetchall():\n",
    "  print(row)"
   ]
  },
  {
   "cell_type": "code",
   "execution_count": 0,
   "metadata": {
    "colab": {
     "base_uri": "https://localhost:8080/",
     "height": 105
    },
    "colab_type": "code",
    "id": "Lg5a_uOmxfmS",
    "outputId": "f1f2ed02-2ffd-4582-fd2f-cb5a0a7a01cb"
   },
   "outputs": [
    {
     "name": "stdout",
     "output_type": "stream",
     "text": [
      "(123456, 27, 1578, 2025)\n",
      "(112345, 50, 3000, 5500)\n",
      "(122345, 65, 3500, 6300)\n",
      "(123345, 10, 800, 750)\n",
      "(124453, 24, 1200, 1850)\n"
     ]
    }
   ],
   "source": [
    "cursor.execute('''select * FROM Pilot''')\n",
    "for row in cursor.fetchall():\n",
    "  print(row)"
   ]
  },
  {
   "cell_type": "code",
   "execution_count": 0,
   "metadata": {
    "colab": {
     "base_uri": "https://localhost:8080/",
     "height": 105
    },
    "colab_type": "code",
    "id": "i19W2C6PxjC_",
    "outputId": "3b8221d1-f664-4da5-8967-bb8e94d36a6a"
   },
   "outputs": [
    {
     "name": "stdout",
     "output_type": "stream",
     "text": [
      "(3, 5678, 130, 2025, 'Miles Sanders')\n",
      "(4, 5679, 550, 5500, 'Juju Smith-Shuster')\n",
      "(5, 5680, 780, 6300, 'Jim Berry')\n",
      "(6, 5681, 100, 750, 'Zac Efron')\n",
      "(7, 5682, 230, 1850, 'Kim Kardash')\n"
     ]
    }
   ],
   "source": [
    "cursor.execute('''select * FROM Cost''')\n",
    "for row in cursor.fetchall():\n",
    "  print(row)"
   ]
  },
  {
   "cell_type": "markdown",
   "metadata": {
    "colab_type": "text",
    "id": "Ekn1-j13-6MX"
   },
   "source": [
    "**How much money was spent on training by the students?**\n"
   ]
  },
  {
   "cell_type": "code",
   "execution_count": 0,
   "metadata": {
    "colab": {
     "base_uri": "https://localhost:8080/",
     "height": 34
    },
    "colab_type": "code",
    "id": "E_4O225K_VKd",
    "outputId": "ffdd65c2-6117-4a78-fa42-486145460973"
   },
   "outputs": [
    {
     "name": "stdout",
     "output_type": "stream",
     "text": [
      "(3643.0,)\n"
     ]
    }
   ],
   "source": [
    "cursor.execute('''select AVG(rent+fuel) FROM Cost''')\n",
    "for row in cursor.fetchall():\n",
    "  print(row)"
   ]
  },
  {
   "cell_type": "markdown",
   "metadata": {
    "colab_type": "text",
    "id": "55GLjYlNDpOf"
   },
   "source": [
    "This question was asked because it is the main reason the database was created. It helps to keep track of the total spend on training by a group. It is easy for students to loose track of how muhc they are spending when they rent an aircraft and go for a flight but knowing this will help them understand the costs associated with flight."
   ]
  },
  {
   "cell_type": "markdown",
   "metadata": {
    "colab_type": "text",
    "id": "JoyklNyj-61L"
   },
   "source": [
    "**How far did the students fly on average?**\n"
   ]
  },
  {
   "cell_type": "code",
   "execution_count": 0,
   "metadata": {
    "colab": {
     "base_uri": "https://localhost:8080/",
     "height": 34
    },
    "colab_type": "code",
    "id": "SNqe2GoECAgj",
    "outputId": "1bc73b21-67de-4a82-d141-eacf3b7842da"
   },
   "outputs": [
    {
     "name": "stdout",
     "output_type": "stream",
     "text": [
      "(1400.0,)\n"
     ]
    }
   ],
   "source": [
    "cursor.execute('''select AVG(flightdistance) FROM Flight ''')\n",
    "for row in cursor.fetchall():\n",
    "  print(row)"
   ]
  },
  {
   "cell_type": "markdown",
   "metadata": {
    "colab_type": "text",
    "id": "koUYwF3tWwNX"
   },
   "source": [
    "This question is so that students can know approximately how far they will fly during a lesson. This is so that students can mental prepare themselves for longer flights but also know how much fuel to put into aircraft as well as plan for routes that are about this distance."
   ]
  },
  {
   "cell_type": "markdown",
   "metadata": {
    "colab_type": "text",
    "id": "91iVhAAI_UiO"
   },
   "source": [
    "**Which airplanes were used to train pilots?**"
   ]
  },
  {
   "cell_type": "code",
   "execution_count": 0,
   "metadata": {
    "colab": {
     "base_uri": "https://localhost:8080/",
     "height": 52
    },
    "colab_type": "code",
    "id": "Op7QwVSPCKwz",
    "outputId": "5fc34908-4b63-4768-e805-9020bab29dcb"
   },
   "outputs": [
    {
     "name": "stdout",
     "output_type": "stream",
     "text": [
      "('Cessna 150',)\n",
      "('Cessna 152',)\n"
     ]
    }
   ],
   "source": [
    "cursor.execute('''select model FROM airplane group by model''')\n",
    "for row in cursor.fetchall():\n",
    "  print(row)"
   ]
  },
  {
   "cell_type": "markdown",
   "metadata": {
    "colab_type": "text",
    "id": "4hsjc57RXPlV"
   },
   "source": [
    "This question was asked for two reasons. This information is useful for instructors so they can see what planes are being used for training and focus their lessons around the instrumentation of those planes. It is also helpful for the students so they can become familiar with the layout and performance of the planes to perform better in their lessons. "
   ]
  }
 ],
 "metadata": {
  "colab": {
   "collapsed_sections": [],
   "name": "Group Assignment 4",
   "provenance": []
  },
  "kernelspec": {
   "display_name": "Python 3",
   "language": "python",
   "name": "python3"
  },
  "language_info": {
   "codemirror_mode": {
    "name": "ipython",
    "version": 3
   },
   "file_extension": ".py",
   "mimetype": "text/x-python",
   "name": "python",
   "nbconvert_exporter": "python",
   "pygments_lexer": "ipython3",
   "version": "3.7.3"
  }
 },
 "nbformat": 4,
 "nbformat_minor": 1
}
