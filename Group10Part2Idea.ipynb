{
  "nbformat": 4,
  "nbformat_minor": 0,
  "metadata": {
    "colab": {
      "name": "Group10Part2Idea.ipynb",
      "provenance": []
    },
    "kernelspec": {
      "name": "python3",
      "display_name": "Python 3"
    }
  },
  "cells": [
    {
      "cell_type": "code",
      "metadata": {
        "id": "AbkJkqvjX5KF",
        "colab_type": "code",
        "colab": {}
      },
      "source": [
        ""
      ],
      "execution_count": 0,
      "outputs": []
    },
    {
      "cell_type": "markdown",
      "metadata": {
        "id": "e32xEpUPX8MU",
        "colab_type": "text"
      },
      "source": [
        "---Civilian pilot training is a process that is not straight forward. Many different private schools offer this training process. Whether it is through a flying club, private airport, or a university or airline sponsored program, this process is different and tends to cost different amounts. This would be an online database to help young pilots not only understand the process and requirements of flight training but help them manage their progress and the cost. As a part of flight training, pilots will have to “log hours.” Logging hours is often done in a logbook which is usually pen and paper. This brings up some obvious issues. Pen and paper can easily get lost or ruined by a morning cup of coffee (something pilot are awfully fond of). By having a database that actively tracks cost for the pilot, they can have a better idea of what the total cost for the training will be. This idea can also be used once a pilot has graduated from training. Airplanes are expensive, so the majority of young pilots choose to rent planes in order to fly places or keep up their skills. This can also cost a person more than they expect. Planes can be rented by hours, days, weeks, or even months, but the cost of gas and flight distance can be calculated and can also be easily tracked by this database. The database is unique because there is no major company out there doing this. It would also provide transparency in cost making pilot training and flying accessible to a large population. People will be more willing to train as a pilot if they know there is a way they can calculate costs in a more upfront manner.\n",
        "\n",
        "\n",
        "Flight time (length and distance)\n",
        "    Time measured in hours, minutes\n",
        "    Distance measured in miles\n",
        "Actual time (Departure and Arrival time)\n",
        "Number of Passengers\n",
        "    One-to-Many Relationship: One Pilot to Many Passengers\n",
        "        Constraints: Certain types of pilot certificates only allow a certain amount of passengers\n",
        "Price of fuel at take-off (price/gallon)\n",
        "Airplane used (model and year)\n",
        "Pilot (name and rank)\n",
        "Cost → real-time input. This would track costs pre-flight, during flight, and after flight.\n",
        "\n",
        "The goal of this idea is to get rid of the hidden costs and fear of getting into flying due to financial reasons. This will help to negate that fear factor and provide greater transparency over overall costs. This will be done by tracking realtime costs so a more universal cost can be discovered.\n",
        "\n",
        "\n",
        "\n"
      ]
    }
  ]
}